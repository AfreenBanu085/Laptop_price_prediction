{
 "cells": [
  {
   "cell_type": "markdown",
   "id": "d1356592",
   "metadata": {},
   "source": [
    "### Flipkart Laptop Data \n",
    "- Business Insights on Product Pricing"
   ]
  },
  {
   "cell_type": "markdown",
   "id": "d67ef37d",
   "metadata": {},
   "source": [
    "### Problem Statement\n",
    "#### Elon Musk has started his own laptop company (Tesla Laptop) in India. He wants to give tough fights to big companies like Apple, Alienware, HP etc.\n",
    "\n",
    "- -He does not know how to estimate the price of laptops his company creates. In this competitive laptop market you cannot simply assume things.\n",
    "- Musk wants to find out some relation between features of a Laptop(eg:- RAM, OS etc) and its selling price. But he is not so good at Data Mining.\n",
    "- To solve this problem he already asked his Data Engineering team to collect laptop data from various competitors.\n",
    "- Now he needs your (i.e Data Scientist’s) help to solve the following problem."
   ]
  },
  {
   "cell_type": "markdown",
   "id": "ac2ddd33",
   "metadata": {},
   "source": [
    "### Data Analysis and Mining\n",
    "- Musk’s Requirements\n",
    "- Build an interface (using streamlit) for Elon Musk where he can enter the laptop features like RAM Size, RAM Type, HDD, OS, etc. and get the price prediction.\n",
    "- Based on your Data Analysis and MIning skills, give recommendations to Elon Musk on how the pricing works in the laptop market."
   ]
  },
  {
   "cell_type": "markdown",
   "id": "d6dafe4f",
   "metadata": {},
   "source": [
    "### ML Model Tuning\n",
    "- Now he wants you to test the models you have created for Underfitting and Overfitting. He wants you to build a best fit model.\n",
    "- First try to check if the models you have created are a best fit or not.\n",
    "- See if applying cross validation helps improve your models performance."
   ]
  },
  {
   "cell_type": "markdown",
   "id": "6d14a9cb",
   "metadata": {},
   "source": [
    "### Required Libraries"
   ]
  },
  {
   "cell_type": "code",
   "execution_count": 1,
   "id": "b3ffd96c",
   "metadata": {},
   "outputs": [],
   "source": [
    "import numpy as np\n",
    "import pandas as pd\n",
    "import re\n",
    "import warnings\n",
    "warnings.filterwarnings(\"ignore\")"
   ]
  },
  {
   "cell_type": "code",
   "execution_count": 4,
   "id": "f5545128",
   "metadata": {},
   "outputs": [
    {
     "data": {
      "text/html": [
       "<div>\n",
       "<style scoped>\n",
       "    .dataframe tbody tr th:only-of-type {\n",
       "        vertical-align: middle;\n",
       "    }\n",
       "\n",
       "    .dataframe tbody tr th {\n",
       "        vertical-align: top;\n",
       "    }\n",
       "\n",
       "    .dataframe thead th {\n",
       "        text-align: right;\n",
       "    }\n",
       "</style>\n",
       "<table border=\"1\" class=\"dataframe\">\n",
       "  <thead>\n",
       "    <tr style=\"text-align: right;\">\n",
       "      <th></th>\n",
       "      <th>Product</th>\n",
       "      <th>Rating</th>\n",
       "      <th>MRP</th>\n",
       "      <th>Feature</th>\n",
       "    </tr>\n",
       "  </thead>\n",
       "  <tbody>\n",
       "    <tr>\n",
       "      <th>0</th>\n",
       "      <td>Lenovo IdeaPad 3 Core i3 11th Gen - (8 GB/256 ...</td>\n",
       "      <td>4.2</td>\n",
       "      <td>₹36,990</td>\n",
       "      <td>Intel Core i3 Processor (11th Gen)8 GB DDR4 RA...</td>\n",
       "    </tr>\n",
       "    <tr>\n",
       "      <th>1</th>\n",
       "      <td>Lenovo IdeaPad 3 Core i3 11th Gen - (8 GB/512 ...</td>\n",
       "      <td>4.2</td>\n",
       "      <td>₹39,990</td>\n",
       "      <td>Intel Core i3 Processor (11th Gen)8 GB DDR4 RA...</td>\n",
       "    </tr>\n",
       "    <tr>\n",
       "      <th>2</th>\n",
       "      <td>ASUS VivoBook 15 (2022) Core i3 10th Gen - (8 ...</td>\n",
       "      <td>4.3</td>\n",
       "      <td>₹32,990</td>\n",
       "      <td>Intel Core i3 Processor (10th Gen)8 GB DDR4 RA...</td>\n",
       "    </tr>\n",
       "    <tr>\n",
       "      <th>3</th>\n",
       "      <td>HP Pavilion Ryzen 5 Hexa Core AMD R5-5600H - (...</td>\n",
       "      <td>4.4</td>\n",
       "      <td>₹49,990</td>\n",
       "      <td>AMD Ryzen 5 Hexa Core Processor8 GB DDR4 RAM64...</td>\n",
       "    </tr>\n",
       "    <tr>\n",
       "      <th>4</th>\n",
       "      <td>ASUS TUF Gaming F15 Core i5 10th Gen - (8 GB/5...</td>\n",
       "      <td>4.4</td>\n",
       "      <td>₹49,990</td>\n",
       "      <td>Intel Core i5 Processor (10th Gen)8 GB DDR4 RA...</td>\n",
       "    </tr>\n",
       "  </tbody>\n",
       "</table>\n",
       "</div>"
      ],
      "text/plain": [
       "                                             Product  Rating      MRP  \\\n",
       "0  Lenovo IdeaPad 3 Core i3 11th Gen - (8 GB/256 ...     4.2  ₹36,990   \n",
       "1  Lenovo IdeaPad 3 Core i3 11th Gen - (8 GB/512 ...     4.2  ₹39,990   \n",
       "2  ASUS VivoBook 15 (2022) Core i3 10th Gen - (8 ...     4.3  ₹32,990   \n",
       "3  HP Pavilion Ryzen 5 Hexa Core AMD R5-5600H - (...     4.4  ₹49,990   \n",
       "4  ASUS TUF Gaming F15 Core i5 10th Gen - (8 GB/5...     4.4  ₹49,990   \n",
       "\n",
       "                                             Feature  \n",
       "0  Intel Core i3 Processor (11th Gen)8 GB DDR4 RA...  \n",
       "1  Intel Core i3 Processor (11th Gen)8 GB DDR4 RA...  \n",
       "2  Intel Core i3 Processor (10th Gen)8 GB DDR4 RA...  \n",
       "3  AMD Ryzen 5 Hexa Core Processor8 GB DDR4 RAM64...  \n",
       "4  Intel Core i5 Processor (10th Gen)8 GB DDR4 RA...  "
      ]
     },
     "execution_count": 4,
     "metadata": {},
     "output_type": "execute_result"
    }
   ],
   "source": [
    "df = pd.read_csv(\"C:\\\\Users\\\\dell\\\\Downloads\\\\laptop_details (1).csv\")\n",
    "\n",
    "df.head()"
   ]
  },
  {
   "cell_type": "code",
   "execution_count": 5,
   "id": "7ecf6845",
   "metadata": {},
   "outputs": [
    {
     "name": "stdout",
     "output_type": "stream",
     "text": [
      "<class 'pandas.core.frame.DataFrame'>\n",
      "RangeIndex: 720 entries, 0 to 719\n",
      "Data columns (total 4 columns):\n",
      " #   Column   Non-Null Count  Dtype  \n",
      "---  ------   --------------  -----  \n",
      " 0   Product  720 non-null    object \n",
      " 1   Rating   581 non-null    float64\n",
      " 2   MRP      720 non-null    object \n",
      " 3   Feature  720 non-null    object \n",
      "dtypes: float64(1), object(3)\n",
      "memory usage: 22.6+ KB\n"
     ]
    }
   ],
   "source": [
    "df.info()"
   ]
  },
  {
   "cell_type": "markdown",
   "id": "7172c48b",
   "metadata": {},
   "source": [
    "### Extracting columns Processor, RAM, Operating System, Storage, Brand from Features column"
   ]
  },
  {
   "cell_type": "code",
   "execution_count": 6,
   "id": "b76b9694",
   "metadata": {},
   "outputs": [
    {
     "data": {
      "text/plain": [
       "0    Lenovo\n",
       "1    Lenovo\n",
       "2      ASUS\n",
       "3        HP\n",
       "4      ASUS\n",
       "Name: Brand, dtype: object"
      ]
     },
     "execution_count": 6,
     "metadata": {},
     "output_type": "execute_result"
    }
   ],
   "source": [
    "regex = r'^\\w+'\n",
    "df['Brand']=df['Product'].apply(lambda x : re.findall(regex, x))\n",
    "df['Brand']= df['Brand'].apply(lambda x : ''.join(x))\n",
    "df['Brand'].head()"
   ]
  },
  {
   "cell_type": "code",
   "execution_count": 7,
   "id": "cf5bb893",
   "metadata": {},
   "outputs": [],
   "source": [
    "regex= r'^(?:AMD|Intel|M1|Apple)[\\s\\w]+Processor'\n",
    "df['Processor_Type']=df['Feature'].apply(lambda x : re.findall(regex, x))\n",
    "df['Processor_Type']=df['Processor_Type'].apply(lambda x : ''.join(x))\n",
    "df['Processor_Type']=df['Processor_Type'].apply(lambda x: x.replace(\" Processor\", \"\"))"
   ]
  },
  {
   "cell_type": "code",
   "execution_count": 8,
   "id": "e4a845da",
   "metadata": {},
   "outputs": [
    {
     "data": {
      "text/plain": [
       "0            Intel Core i3\n",
       "1            Intel Core i3\n",
       "2            Intel Core i3\n",
       "3    AMD Ryzen 5 Hexa Core\n",
       "4            Intel Core i5\n",
       "Name: Processor_Type, dtype: object"
      ]
     },
     "execution_count": 8,
     "metadata": {},
     "output_type": "execute_result"
    }
   ],
   "source": [
    "df['Processor_Type'].head()"
   ]
  },
  {
   "cell_type": "code",
   "execution_count": 9,
   "id": "10b0c3f7",
   "metadata": {},
   "outputs": [],
   "source": [
    "regex= r'[\\d]+[\\s]bit[\\s\\w]+Operating System|[\\(Windows)\\d\\s]+Operating System|[\\(Chrome|Mac OS)]+Operating System'\n",
    "df['Operating_System']=df['Feature'].apply(lambda x : re.findall(regex, x))\n",
    "df['Operating_System']=df['Operating_System'].apply(lambda x : ''.join(x))\n",
    "df['Operating_System']=df['Operating_System'].apply(lambda x: x.replace(\" Operating System\", \"\"))"
   ]
  },
  {
   "cell_type": "code",
   "execution_count": 10,
   "id": "19254b74",
   "metadata": {},
   "outputs": [
    {
     "data": {
      "text/plain": [
       "0    64 bit Windows 11\n",
       "1    64 bit Windows 11\n",
       "2    64 bit Windows 11\n",
       "3    64 bit Windows 10\n",
       "4           Windows 11\n",
       "Name: Operating_System, dtype: object"
      ]
     },
     "execution_count": 10,
     "metadata": {},
     "output_type": "execute_result"
    }
   ],
   "source": [
    "df['Operating_System'].head()"
   ]
  },
  {
   "cell_type": "code",
   "execution_count": 11,
   "id": "4f2efec1",
   "metadata": {},
   "outputs": [
    {
     "data": {
      "text/plain": [
       "0    8 GB DDR4 RAM\n",
       "1    8 GB DDR4 RAM\n",
       "2    8 GB DDR4 RAM\n",
       "3    8 GB DDR4 RAM\n",
       "4    8 GB DDR4 RAM\n",
       "Name: RAM, dtype: object"
      ]
     },
     "execution_count": 11,
     "metadata": {},
     "output_type": "execute_result"
    }
   ],
   "source": [
    "regex = r'\\d+\\sGB[\\s\\w]+RAM'\n",
    "df['RAM'] = df['Feature'].apply(lambda x : re.findall(regex, x))\n",
    "df.RAM = df.RAM.apply(lambda x : ''.join(x))\n",
    "df['RAM'].head()"
   ]
  },
  {
   "cell_type": "code",
   "execution_count": 12,
   "id": "97514b73",
   "metadata": {},
   "outputs": [
    {
     "data": {
      "text/plain": [
       "0    256 GB SSD\n",
       "1    512 GB SSD\n",
       "2    512 GB SSD\n",
       "3    512 GB SSD\n",
       "4    512 GB SSD\n",
       "Name: Storage, dtype: object"
      ]
     },
     "execution_count": 12,
     "metadata": {},
     "output_type": "execute_result"
    }
   ],
   "source": [
    "regex = r'[\\d]+\\s(?:GB|TB)\\s(?:HDD|SSD)'\n",
    "df['Storage']=df['Feature'].apply(lambda x : re.findall(regex, x))\n",
    "df['Storage']=df['Storage'].apply(lambda x : ''.join(x))\n",
    "df['Storage'].head()"
   ]
  },
  {
   "cell_type": "markdown",
   "id": "06acfbf3",
   "metadata": {},
   "source": [
    "### MRP column Type conversion"
   ]
  },
  {
   "cell_type": "code",
   "execution_count": 13,
   "id": "ffc5b58a",
   "metadata": {},
   "outputs": [
    {
     "data": {
      "text/plain": [
       "0    36990\n",
       "1    39990\n",
       "2    32990\n",
       "3    49990\n",
       "4    49990\n",
       "Name: MRP, dtype: int32"
      ]
     },
     "execution_count": 13,
     "metadata": {},
     "output_type": "execute_result"
    }
   ],
   "source": [
    "df['MRP'] = df['MRP'].apply(lambda x : x.replace('₹', '').replace(',', '')).astype(int)\n",
    "df['MRP'][:5]"
   ]
  },
  {
   "cell_type": "code",
   "execution_count": 14,
   "id": "ec42ed04",
   "metadata": {},
   "outputs": [
    {
     "data": {
      "text/plain": [
       "0      14\n",
       "1    15.6\n",
       "2    15.6\n",
       "3    15.6\n",
       "4    15.6\n",
       "Name: Display_inchs, dtype: object"
      ]
     },
     "execution_count": 14,
     "metadata": {},
     "output_type": "execute_result"
    }
   ],
   "source": [
    "df['Display_inchs'] = df['Feature'].apply(lambda x: \"\".join(re.findall('(?:\\d+|\\d+.\\d+)\\sinch|(?:\\d+|\\d+.\\d+)\\sInch',x)))\n",
    "\n",
    "df['Display_inchs'] = df['Display_inchs'].apply(lambda x: x.replace(' inch',''))\n",
    "\n",
    "df['Display_inchs'] = df['Display_inchs'].apply(lambda x: x.replace(' Inch',''))\n",
    "\n",
    "df['Display_inchs'] = df['Display_inchs'].apply(lambda x: x.replace('1414','14'))\n",
    "df['Display_inchs'] = df['Display_inchs'].apply(lambda x: x.replace('206015.615.6','15.6'))\n",
    "df['Display_inchs'] = df['Display_inchs'].apply(lambda x: x.replace('15.615.6','15.6'))\n",
    "\n",
    "df['Display_inchs'].replace('',np.nan,inplace=True)\n",
    "\n",
    "df['Display_inchs'].head()\n"
   ]
  },
  {
   "cell_type": "code",
   "execution_count": 15,
   "id": "0e143ffd",
   "metadata": {},
   "outputs": [],
   "source": [
    "df[\"RAM_Type\"]=df[\"RAM\"].apply(lambda x : \"\".join(re.findall(\"GB (.+).RAM\",x)))"
   ]
  },
  {
   "cell_type": "code",
   "execution_count": 16,
   "id": "f674aef5",
   "metadata": {},
   "outputs": [],
   "source": [
    "df[\"RAM\"]=df[\"RAM\"].apply(lambda x : \"\".join(re.findall(\"\\d+ GB\",x)))"
   ]
  },
  {
   "cell_type": "code",
   "execution_count": 17,
   "id": "18d1804a",
   "metadata": {},
   "outputs": [
    {
     "data": {
      "text/plain": [
       "0    DDR4\n",
       "1    DDR4\n",
       "2    DDR4\n",
       "3    DDR4\n",
       "4    DDR4\n",
       "Name: RAM_Type, dtype: object"
      ]
     },
     "execution_count": 17,
     "metadata": {},
     "output_type": "execute_result"
    }
   ],
   "source": [
    "df['RAM_Type'].head()"
   ]
  },
  {
   "cell_type": "code",
   "execution_count": 18,
   "id": "20594bc5",
   "metadata": {},
   "outputs": [
    {
     "data": {
      "text/html": [
       "<div>\n",
       "<style scoped>\n",
       "    .dataframe tbody tr th:only-of-type {\n",
       "        vertical-align: middle;\n",
       "    }\n",
       "\n",
       "    .dataframe tbody tr th {\n",
       "        vertical-align: top;\n",
       "    }\n",
       "\n",
       "    .dataframe thead th {\n",
       "        text-align: right;\n",
       "    }\n",
       "</style>\n",
       "<table border=\"1\" class=\"dataframe\">\n",
       "  <thead>\n",
       "    <tr style=\"text-align: right;\">\n",
       "      <th></th>\n",
       "      <th>Product</th>\n",
       "      <th>Rating</th>\n",
       "      <th>MRP</th>\n",
       "      <th>Feature</th>\n",
       "      <th>Brand</th>\n",
       "      <th>Processor_Type</th>\n",
       "      <th>Operating_System</th>\n",
       "      <th>RAM</th>\n",
       "      <th>Storage</th>\n",
       "      <th>Display_inchs</th>\n",
       "      <th>RAM_Type</th>\n",
       "    </tr>\n",
       "  </thead>\n",
       "  <tbody>\n",
       "    <tr>\n",
       "      <th>0</th>\n",
       "      <td>Lenovo IdeaPad 3 Core i3 11th Gen - (8 GB/256 ...</td>\n",
       "      <td>4.2</td>\n",
       "      <td>36990</td>\n",
       "      <td>Intel Core i3 Processor (11th Gen)8 GB DDR4 RA...</td>\n",
       "      <td>Lenovo</td>\n",
       "      <td>Intel Core i3</td>\n",
       "      <td>64 bit Windows 11</td>\n",
       "      <td>8 GB</td>\n",
       "      <td>256 GB SSD</td>\n",
       "      <td>14</td>\n",
       "      <td>DDR4</td>\n",
       "    </tr>\n",
       "    <tr>\n",
       "      <th>1</th>\n",
       "      <td>Lenovo IdeaPad 3 Core i3 11th Gen - (8 GB/512 ...</td>\n",
       "      <td>4.2</td>\n",
       "      <td>39990</td>\n",
       "      <td>Intel Core i3 Processor (11th Gen)8 GB DDR4 RA...</td>\n",
       "      <td>Lenovo</td>\n",
       "      <td>Intel Core i3</td>\n",
       "      <td>64 bit Windows 11</td>\n",
       "      <td>8 GB</td>\n",
       "      <td>512 GB SSD</td>\n",
       "      <td>15.6</td>\n",
       "      <td>DDR4</td>\n",
       "    </tr>\n",
       "    <tr>\n",
       "      <th>2</th>\n",
       "      <td>ASUS VivoBook 15 (2022) Core i3 10th Gen - (8 ...</td>\n",
       "      <td>4.3</td>\n",
       "      <td>32990</td>\n",
       "      <td>Intel Core i3 Processor (10th Gen)8 GB DDR4 RA...</td>\n",
       "      <td>ASUS</td>\n",
       "      <td>Intel Core i3</td>\n",
       "      <td>64 bit Windows 11</td>\n",
       "      <td>8 GB</td>\n",
       "      <td>512 GB SSD</td>\n",
       "      <td>15.6</td>\n",
       "      <td>DDR4</td>\n",
       "    </tr>\n",
       "    <tr>\n",
       "      <th>3</th>\n",
       "      <td>HP Pavilion Ryzen 5 Hexa Core AMD R5-5600H - (...</td>\n",
       "      <td>4.4</td>\n",
       "      <td>49990</td>\n",
       "      <td>AMD Ryzen 5 Hexa Core Processor8 GB DDR4 RAM64...</td>\n",
       "      <td>HP</td>\n",
       "      <td>AMD Ryzen 5 Hexa Core</td>\n",
       "      <td>64 bit Windows 10</td>\n",
       "      <td>8 GB</td>\n",
       "      <td>512 GB SSD</td>\n",
       "      <td>15.6</td>\n",
       "      <td>DDR4</td>\n",
       "    </tr>\n",
       "    <tr>\n",
       "      <th>4</th>\n",
       "      <td>ASUS TUF Gaming F15 Core i5 10th Gen - (8 GB/5...</td>\n",
       "      <td>4.4</td>\n",
       "      <td>49990</td>\n",
       "      <td>Intel Core i5 Processor (10th Gen)8 GB DDR4 RA...</td>\n",
       "      <td>ASUS</td>\n",
       "      <td>Intel Core i5</td>\n",
       "      <td>Windows 11</td>\n",
       "      <td>8 GB</td>\n",
       "      <td>512 GB SSD</td>\n",
       "      <td>15.6</td>\n",
       "      <td>DDR4</td>\n",
       "    </tr>\n",
       "  </tbody>\n",
       "</table>\n",
       "</div>"
      ],
      "text/plain": [
       "                                             Product  Rating    MRP  \\\n",
       "0  Lenovo IdeaPad 3 Core i3 11th Gen - (8 GB/256 ...     4.2  36990   \n",
       "1  Lenovo IdeaPad 3 Core i3 11th Gen - (8 GB/512 ...     4.2  39990   \n",
       "2  ASUS VivoBook 15 (2022) Core i3 10th Gen - (8 ...     4.3  32990   \n",
       "3  HP Pavilion Ryzen 5 Hexa Core AMD R5-5600H - (...     4.4  49990   \n",
       "4  ASUS TUF Gaming F15 Core i5 10th Gen - (8 GB/5...     4.4  49990   \n",
       "\n",
       "                                             Feature   Brand  \\\n",
       "0  Intel Core i3 Processor (11th Gen)8 GB DDR4 RA...  Lenovo   \n",
       "1  Intel Core i3 Processor (11th Gen)8 GB DDR4 RA...  Lenovo   \n",
       "2  Intel Core i3 Processor (10th Gen)8 GB DDR4 RA...    ASUS   \n",
       "3  AMD Ryzen 5 Hexa Core Processor8 GB DDR4 RAM64...      HP   \n",
       "4  Intel Core i5 Processor (10th Gen)8 GB DDR4 RA...    ASUS   \n",
       "\n",
       "          Processor_Type   Operating_System   RAM     Storage Display_inchs  \\\n",
       "0          Intel Core i3  64 bit Windows 11  8 GB  256 GB SSD            14   \n",
       "1          Intel Core i3  64 bit Windows 11  8 GB  512 GB SSD          15.6   \n",
       "2          Intel Core i3  64 bit Windows 11  8 GB  512 GB SSD          15.6   \n",
       "3  AMD Ryzen 5 Hexa Core  64 bit Windows 10  8 GB  512 GB SSD          15.6   \n",
       "4          Intel Core i5         Windows 11  8 GB  512 GB SSD          15.6   \n",
       "\n",
       "  RAM_Type  \n",
       "0     DDR4  \n",
       "1     DDR4  \n",
       "2     DDR4  \n",
       "3     DDR4  \n",
       "4     DDR4  "
      ]
     },
     "execution_count": 18,
     "metadata": {},
     "output_type": "execute_result"
    }
   ],
   "source": [
    "df.head()"
   ]
  },
  {
   "cell_type": "code",
   "execution_count": 19,
   "id": "0a9d9d44",
   "metadata": {},
   "outputs": [
    {
     "name": "stdout",
     "output_type": "stream",
     "text": [
      "<class 'pandas.core.frame.DataFrame'>\n",
      "RangeIndex: 720 entries, 0 to 719\n",
      "Data columns (total 11 columns):\n",
      " #   Column            Non-Null Count  Dtype  \n",
      "---  ------            --------------  -----  \n",
      " 0   Product           720 non-null    object \n",
      " 1   Rating            581 non-null    float64\n",
      " 2   MRP               720 non-null    int32  \n",
      " 3   Feature           720 non-null    object \n",
      " 4   Brand             720 non-null    object \n",
      " 5   Processor_Type    720 non-null    object \n",
      " 6   Operating_System  720 non-null    object \n",
      " 7   RAM               720 non-null    object \n",
      " 8   Storage           720 non-null    object \n",
      " 9   Display_inchs     718 non-null    object \n",
      " 10  RAM_Type          720 non-null    object \n",
      "dtypes: float64(1), int32(1), object(9)\n",
      "memory usage: 59.2+ KB\n"
     ]
    }
   ],
   "source": [
    "df.info()"
   ]
  },
  {
   "cell_type": "code",
   "execution_count": 20,
   "id": "a362995b",
   "metadata": {},
   "outputs": [
    {
     "data": {
      "text/plain": [
       "Product               0\n",
       "Rating              139\n",
       "MRP                   0\n",
       "Feature               0\n",
       "Brand                 0\n",
       "Processor_Type        0\n",
       "Operating_System      0\n",
       "RAM                   0\n",
       "Storage               0\n",
       "Display_inchs         2\n",
       "RAM_Type              0\n",
       "dtype: int64"
      ]
     },
     "execution_count": 20,
     "metadata": {},
     "output_type": "execute_result"
    }
   ],
   "source": [
    "df.isnull().sum()"
   ]
  },
  {
   "cell_type": "code",
   "execution_count": 21,
   "id": "0f14ff7d",
   "metadata": {},
   "outputs": [
    {
     "data": {
      "text/html": [
       "<div>\n",
       "<style scoped>\n",
       "    .dataframe tbody tr th:only-of-type {\n",
       "        vertical-align: middle;\n",
       "    }\n",
       "\n",
       "    .dataframe tbody tr th {\n",
       "        vertical-align: top;\n",
       "    }\n",
       "\n",
       "    .dataframe thead th {\n",
       "        text-align: right;\n",
       "    }\n",
       "</style>\n",
       "<table border=\"1\" class=\"dataframe\">\n",
       "  <thead>\n",
       "    <tr style=\"text-align: right;\">\n",
       "      <th></th>\n",
       "      <th>Product</th>\n",
       "      <th>Rating</th>\n",
       "      <th>MRP</th>\n",
       "      <th>Feature</th>\n",
       "      <th>Brand</th>\n",
       "      <th>Processor_Type</th>\n",
       "      <th>Operating_System</th>\n",
       "      <th>RAM</th>\n",
       "      <th>Storage</th>\n",
       "      <th>Display_inchs</th>\n",
       "      <th>RAM_Type</th>\n",
       "    </tr>\n",
       "  </thead>\n",
       "  <tbody>\n",
       "    <tr>\n",
       "      <th>6</th>\n",
       "      <td>DELL Inspiron Core i3 11th Gen - (8 GB/1 TB HD...</td>\n",
       "      <td>4.3</td>\n",
       "      <td>38990</td>\n",
       "      <td>Processor: Intel i3-1115G4 (Base- 1.70 GHz &amp; T...</td>\n",
       "      <td>DELL</td>\n",
       "      <td></td>\n",
       "      <td>Windows 11</td>\n",
       "      <td>8 GB</td>\n",
       "      <td>1 TB HDD256 GB SSD</td>\n",
       "      <td>15.6</td>\n",
       "      <td>DDR4</td>\n",
       "    </tr>\n",
       "    <tr>\n",
       "      <th>8</th>\n",
       "      <td>realme Book (Slim) Core i3 11th Gen - (8 GB/25...</td>\n",
       "      <td>4.4</td>\n",
       "      <td>46990</td>\n",
       "      <td>Stylish &amp; Portable Thin and Light Laptop14 inc...</td>\n",
       "      <td>realme</td>\n",
       "      <td></td>\n",
       "      <td>64 bit Windows 10</td>\n",
       "      <td>8 GB</td>\n",
       "      <td>256 GB SSD</td>\n",
       "      <td>14</td>\n",
       "      <td>DDR4</td>\n",
       "    </tr>\n",
       "    <tr>\n",
       "      <th>29</th>\n",
       "      <td>realme Book (Slim) Core i3 11th Gen - (8 GB/25...</td>\n",
       "      <td>4.4</td>\n",
       "      <td>46990</td>\n",
       "      <td>Stylish &amp; Portable Thin and Light Laptop14 inc...</td>\n",
       "      <td>realme</td>\n",
       "      <td></td>\n",
       "      <td>64 bit Windows 10</td>\n",
       "      <td>8 GB</td>\n",
       "      <td>256 GB SSD</td>\n",
       "      <td>14</td>\n",
       "      <td>DDR4</td>\n",
       "    </tr>\n",
       "    <tr>\n",
       "      <th>33</th>\n",
       "      <td>acer Aspire 7 Ryzen 5 Hexa Core AMD R5-5500U -...</td>\n",
       "      <td>4.4</td>\n",
       "      <td>47990</td>\n",
       "      <td>Free upgrade to Windows 11 when availableAMD R...</td>\n",
       "      <td>acer</td>\n",
       "      <td></td>\n",
       "      <td>64 bit Windows 11</td>\n",
       "      <td>8 GB</td>\n",
       "      <td>512 GB SSD</td>\n",
       "      <td>15.6</td>\n",
       "      <td>DDR4</td>\n",
       "    </tr>\n",
       "    <tr>\n",
       "      <th>53</th>\n",
       "      <td>realme Book(Slim) Intel Evo Core i5 11th Gen -...</td>\n",
       "      <td>4.4</td>\n",
       "      <td>59990</td>\n",
       "      <td>Powered by 11th Gen Intel Evo Core i5 Processo...</td>\n",
       "      <td>realme</td>\n",
       "      <td></td>\n",
       "      <td>64 bit Windows 10</td>\n",
       "      <td>8 GB</td>\n",
       "      <td>512 GB SSD</td>\n",
       "      <td>14</td>\n",
       "      <td>DDR4</td>\n",
       "    </tr>\n",
       "    <tr>\n",
       "      <th>54</th>\n",
       "      <td>acer Aspire 7 Core i5 10th Gen - (8 GB/512 GB ...</td>\n",
       "      <td>4.4</td>\n",
       "      <td>47990</td>\n",
       "      <td>Free upgrade to Windows 11 when availableIntel...</td>\n",
       "      <td>acer</td>\n",
       "      <td></td>\n",
       "      <td>64 bit Windows 10</td>\n",
       "      <td>8 GB</td>\n",
       "      <td>512 GB SSD</td>\n",
       "      <td>15.6</td>\n",
       "      <td>DDR4</td>\n",
       "    </tr>\n",
       "    <tr>\n",
       "      <th>69</th>\n",
       "      <td>DELL Ryzen 5 Hexa Core AMD R5-5600H - (16 GB/5...</td>\n",
       "      <td>4.6</td>\n",
       "      <td>70990</td>\n",
       "      <td>Processor: AMD Ryzen R5-5600H (3.30 GHz up to ...</td>\n",
       "      <td>DELL</td>\n",
       "      <td></td>\n",
       "      <td>64 bit Windows 11</td>\n",
       "      <td>16 GB</td>\n",
       "      <td>512 GB SSD</td>\n",
       "      <td>15.6</td>\n",
       "      <td>DDR4</td>\n",
       "    </tr>\n",
       "    <tr>\n",
       "      <th>83</th>\n",
       "      <td>SAMSUNG Galaxy Book Go Snapdragon 7c Gen 2 - (...</td>\n",
       "      <td>4.4</td>\n",
       "      <td>32990</td>\n",
       "      <td>Qualcomm Snapdragon 7c Gen 2 Processor4 GB LPD...</td>\n",
       "      <td>SAMSUNG</td>\n",
       "      <td></td>\n",
       "      <td>Windows 11</td>\n",
       "      <td>4 GB</td>\n",
       "      <td></td>\n",
       "      <td>14</td>\n",
       "      <td>LPDDR4X</td>\n",
       "    </tr>\n",
       "    <tr>\n",
       "      <th>94</th>\n",
       "      <td>DELL Inspiron Pentium Silver - (8 GB/256 GB SS...</td>\n",
       "      <td>4.2</td>\n",
       "      <td>30428</td>\n",
       "      <td>Processor: Intel PQC-N5030 (1.10 GHz up to 3.1...</td>\n",
       "      <td>DELL</td>\n",
       "      <td></td>\n",
       "      <td>64 bit Windows 11</td>\n",
       "      <td>8 GB</td>\n",
       "      <td>256 GB SSD</td>\n",
       "      <td>15.6</td>\n",
       "      <td>DDR4</td>\n",
       "    </tr>\n",
       "    <tr>\n",
       "      <th>116</th>\n",
       "      <td>realme Book(Slim) Intel Evo Core i5 11th Gen -...</td>\n",
       "      <td>4.4</td>\n",
       "      <td>59990</td>\n",
       "      <td>Powered by 11th Gen Intel Evo Core i5 Processo...</td>\n",
       "      <td>realme</td>\n",
       "      <td></td>\n",
       "      <td>64 bit Windows 10</td>\n",
       "      <td>8 GB</td>\n",
       "      <td>512 GB SSD</td>\n",
       "      <td>14</td>\n",
       "      <td>DDR4</td>\n",
       "    </tr>\n",
       "    <tr>\n",
       "      <th>122</th>\n",
       "      <td>DELL Ryzen 7 Octa Core AMD R7-5800H - (16 GB/5...</td>\n",
       "      <td>5.0</td>\n",
       "      <td>89081</td>\n",
       "      <td>NVIDIA RTX 3050 Graphics upto 90W TGP15.6 inch...</td>\n",
       "      <td>DELL</td>\n",
       "      <td></td>\n",
       "      <td>64 bit Windows 11</td>\n",
       "      <td>16 GB</td>\n",
       "      <td>512 GB SSD</td>\n",
       "      <td>15.6</td>\n",
       "      <td>DDR4</td>\n",
       "    </tr>\n",
       "    <tr>\n",
       "      <th>142</th>\n",
       "      <td>DELL Vostro Ryzen 3 Dual Core R3-3250U - (8 GB...</td>\n",
       "      <td>3.8</td>\n",
       "      <td>33099</td>\n",
       "      <td>Processor: AMD Ryzen 3-3250U (2.60 GHz up to 3...</td>\n",
       "      <td>DELL</td>\n",
       "      <td></td>\n",
       "      <td>64 bit Windows 11</td>\n",
       "      <td>8 GB</td>\n",
       "      <td>1 TB HDD</td>\n",
       "      <td>NaN</td>\n",
       "      <td>DDR4</td>\n",
       "    </tr>\n",
       "    <tr>\n",
       "      <th>172</th>\n",
       "      <td>DELL Inspiron Core i3 11th Gen - (8 GB/1 TB HD...</td>\n",
       "      <td>4.3</td>\n",
       "      <td>45900</td>\n",
       "      <td>Processor: Intel i3-1115G4 (Base- 1.70 GHz &amp; T...</td>\n",
       "      <td>DELL</td>\n",
       "      <td></td>\n",
       "      <td>64 bit Windows 11</td>\n",
       "      <td>8 GB</td>\n",
       "      <td>1 TB HDD256 GB SSD</td>\n",
       "      <td>15.6</td>\n",
       "      <td>DDR4</td>\n",
       "    </tr>\n",
       "    <tr>\n",
       "      <th>232</th>\n",
       "      <td>MSI Pulse GL66 Core i7 11th Gen - (16 GB/1 TB ...</td>\n",
       "      <td>4.5</td>\n",
       "      <td>114990</td>\n",
       "      <td>Pre-installed Genuine Windows 10 Home OSIntel ...</td>\n",
       "      <td>MSI</td>\n",
       "      <td></td>\n",
       "      <td>64 bit Windows 10</td>\n",
       "      <td>16 GB</td>\n",
       "      <td>1 TB SSD</td>\n",
       "      <td>15.6</td>\n",
       "      <td>DDR4</td>\n",
       "    </tr>\n",
       "    <tr>\n",
       "      <th>249</th>\n",
       "      <td>DELL Inspiron Core i3 11th Gen - (8 GB/256 GB ...</td>\n",
       "      <td>4.3</td>\n",
       "      <td>54900</td>\n",
       "      <td>Processor: Intel i3-1125G4 (2.00 GHz up to 3.7...</td>\n",
       "      <td>DELL</td>\n",
       "      <td></td>\n",
       "      <td>64 bit Windows 11</td>\n",
       "      <td>8 GB</td>\n",
       "      <td>256 GB SSD</td>\n",
       "      <td>14</td>\n",
       "      <td>DDR4</td>\n",
       "    </tr>\n",
       "    <tr>\n",
       "      <th>253</th>\n",
       "      <td>DELL Inspiron Ryzen 5 Dual Core 3450U - (8 GB/...</td>\n",
       "      <td>4.3</td>\n",
       "      <td>48184</td>\n",
       "      <td>Processor: AMD Ryzen 5-3450U (2.10 GHz up to 3...</td>\n",
       "      <td>DELL</td>\n",
       "      <td></td>\n",
       "      <td>64 bit Windows 11</td>\n",
       "      <td>8 GB</td>\n",
       "      <td>512 GB SSD</td>\n",
       "      <td>15.6</td>\n",
       "      <td>DDR4</td>\n",
       "    </tr>\n",
       "    <tr>\n",
       "      <th>259</th>\n",
       "      <td>DELL Core i5 11th Gen - (8 GB/512 GB SSD/Windo...</td>\n",
       "      <td>4.4</td>\n",
       "      <td>67990</td>\n",
       "      <td>NVIDIA RTX 3050 Graphics upto 90W TGP15.6 inch...</td>\n",
       "      <td>DELL</td>\n",
       "      <td></td>\n",
       "      <td>64 bit Windows 11</td>\n",
       "      <td>8 GB</td>\n",
       "      <td>512 GB SSD</td>\n",
       "      <td>15.6</td>\n",
       "      <td>DDR4</td>\n",
       "    </tr>\n",
       "    <tr>\n",
       "      <th>349</th>\n",
       "      <td>DELL Vostro Core i5 11th Gen - (8 GB/512 GB SS...</td>\n",
       "      <td>3.9</td>\n",
       "      <td>63090</td>\n",
       "      <td>Processor: 11th Generation Intel Core i5-1135G...</td>\n",
       "      <td>DELL</td>\n",
       "      <td></td>\n",
       "      <td>5Operating System64 bit Windows 10</td>\n",
       "      <td>8 GB</td>\n",
       "      <td>512 GB SSD</td>\n",
       "      <td>NaN</td>\n",
       "      <td>DDR4</td>\n",
       "    </tr>\n",
       "    <tr>\n",
       "      <th>355</th>\n",
       "      <td>DELL Vostro Core i3 10th Gen - (8 GB/512 GB SS...</td>\n",
       "      <td>4.1</td>\n",
       "      <td>43090</td>\n",
       "      <td>Processor: 10th Generation Intel Core i3-1005G...</td>\n",
       "      <td>DELL</td>\n",
       "      <td></td>\n",
       "      <td>64 bit Windows 10</td>\n",
       "      <td>8 GB</td>\n",
       "      <td>512 GB SSD</td>\n",
       "      <td>14</td>\n",
       "      <td>DDR4</td>\n",
       "    </tr>\n",
       "    <tr>\n",
       "      <th>393</th>\n",
       "      <td>acer Aspire 5 Core i5 11th Gen - (8 GB/1 TB HD...</td>\n",
       "      <td>4.0</td>\n",
       "      <td>47130</td>\n",
       "      <td>Free upgrade to Windows 11 when availableIntel...</td>\n",
       "      <td>acer</td>\n",
       "      <td></td>\n",
       "      <td>64 bit Windows 10</td>\n",
       "      <td>8 GB</td>\n",
       "      <td>1 TB HDD</td>\n",
       "      <td>15.6</td>\n",
       "      <td>DDR4</td>\n",
       "    </tr>\n",
       "    <tr>\n",
       "      <th>438</th>\n",
       "      <td>acer Predator Helios 300 Core i5 7th Gen - (8 ...</td>\n",
       "      <td>4.5</td>\n",
       "      <td>129999</td>\n",
       "      <td>Pre-installed Genuine Windows 10 Operating Sys...</td>\n",
       "      <td>acer</td>\n",
       "      <td></td>\n",
       "      <td>Windows 1064 bit Windows 10</td>\n",
       "      <td>128 GB512 GB8 GB</td>\n",
       "      <td>128 GB SSD1 TB HDD128 GB SSD</td>\n",
       "      <td>15.6</td>\n",
       "      <td>SSD for Reduced Boot Up Time and in Game Loadi...</td>\n",
       "    </tr>\n",
       "    <tr>\n",
       "      <th>443</th>\n",
       "      <td>MSI Pulse GL66 Core i7 11th Gen - (16 GB/512 G...</td>\n",
       "      <td>4.6</td>\n",
       "      <td>107790</td>\n",
       "      <td>Pre-installed Genuine Windows 10 Home OSIntel ...</td>\n",
       "      <td>MSI</td>\n",
       "      <td></td>\n",
       "      <td>64 bit Windows 10</td>\n",
       "      <td>16 GB</td>\n",
       "      <td>512 GB SSD</td>\n",
       "      <td>15.6</td>\n",
       "      <td>DDR4</td>\n",
       "    </tr>\n",
       "    <tr>\n",
       "      <th>502</th>\n",
       "      <td>acer Nitro 5 Ryzen 5 Hexa Core 4600H - (8 GB/1...</td>\n",
       "      <td>4.5</td>\n",
       "      <td>61490</td>\n",
       "      <td>Free upgrade to Windows 11 when availableAMD R...</td>\n",
       "      <td>acer</td>\n",
       "      <td></td>\n",
       "      <td>64 bit Windows 10</td>\n",
       "      <td>8 GB</td>\n",
       "      <td>1 TB HDD256 GB SSD</td>\n",
       "      <td>15.6</td>\n",
       "      <td>DDR4</td>\n",
       "    </tr>\n",
       "    <tr>\n",
       "      <th>508</th>\n",
       "      <td>MSI GF63 Thin Core i5 9th Gen - (8 GB/1 TB HDD...</td>\n",
       "      <td>4.2</td>\n",
       "      <td>62190</td>\n",
       "      <td>15.6 inches Full HD IPS Thin Bezel Display (60...</td>\n",
       "      <td>MSI</td>\n",
       "      <td></td>\n",
       "      <td>64 bit Windows 10</td>\n",
       "      <td>8 GB</td>\n",
       "      <td>1 TB HDD</td>\n",
       "      <td>15.6</td>\n",
       "      <td>DDR4</td>\n",
       "    </tr>\n",
       "    <tr>\n",
       "      <th>593</th>\n",
       "      <td>DELL Core i7 11th Gen - (16 GB/512 GB SSD/Wind...</td>\n",
       "      <td>4.2</td>\n",
       "      <td>101990</td>\n",
       "      <td>Processor: Intel i7-11800H- (2.30 GHz up to 4....</td>\n",
       "      <td>DELL</td>\n",
       "      <td></td>\n",
       "      <td>64 bit Windows 11</td>\n",
       "      <td>16 GB</td>\n",
       "      <td>512 GB SSD</td>\n",
       "      <td>15.6</td>\n",
       "      <td>DDR4</td>\n",
       "    </tr>\n",
       "    <tr>\n",
       "      <th>622</th>\n",
       "      <td>MSI GP65 Leopard Core i7 10th Gen - (16 GB/1 T...</td>\n",
       "      <td>4.5</td>\n",
       "      <td>99990</td>\n",
       "      <td>15.6 inches Full HD IPS Thin Bezel Display (14...</td>\n",
       "      <td>MSI</td>\n",
       "      <td></td>\n",
       "      <td>64 bit Windows 10</td>\n",
       "      <td>16 GB</td>\n",
       "      <td>1 TB HDD256 GB SSD</td>\n",
       "      <td>15.6</td>\n",
       "      <td>DDR4</td>\n",
       "    </tr>\n",
       "    <tr>\n",
       "      <th>628</th>\n",
       "      <td>ALIENWARE Core i9 10th Gen - (32 GB/1 TB SSD/W...</td>\n",
       "      <td>4.6</td>\n",
       "      <td>345390</td>\n",
       "      <td>NVIDIA GeForce RTX 2080 with Max-Q15.6 inch Fu...</td>\n",
       "      <td>ALIENWARE</td>\n",
       "      <td></td>\n",
       "      <td>64 bit Windows 10</td>\n",
       "      <td>32 GB</td>\n",
       "      <td>1 TB SSD</td>\n",
       "      <td>15.6</td>\n",
       "      <td>DDR4</td>\n",
       "    </tr>\n",
       "    <tr>\n",
       "      <th>643</th>\n",
       "      <td>ASUS ZenBook Pro 15 Core i7 8th Gen - (16 GB/1...</td>\n",
       "      <td>4.8</td>\n",
       "      <td>110990</td>\n",
       "      <td>First Ever ScreenpadNVIDIA GeForce GTX 1050 Ti...</td>\n",
       "      <td>ASUS</td>\n",
       "      <td></td>\n",
       "      <td>64 bit Windows 10</td>\n",
       "      <td>16 GB</td>\n",
       "      <td>1 TB SSD</td>\n",
       "      <td>15.6</td>\n",
       "      <td>DDR4</td>\n",
       "    </tr>\n",
       "    <tr>\n",
       "      <th>644</th>\n",
       "      <td>acer Predator Helios 300 Core i5 8th Gen - (8 ...</td>\n",
       "      <td>4.6</td>\n",
       "      <td>74590</td>\n",
       "      <td>NVIDIA Geforce GTX 1050 Ti for Desktop Level P...</td>\n",
       "      <td>acer</td>\n",
       "      <td></td>\n",
       "      <td>64 bit Windows 10</td>\n",
       "      <td>8 GB</td>\n",
       "      <td>128 GB SSD1 TB HDD128 GB SSD</td>\n",
       "      <td>15.6</td>\n",
       "      <td>DDR4</td>\n",
       "    </tr>\n",
       "    <tr>\n",
       "      <th>645</th>\n",
       "      <td>DELL Ryzen 5 Hexa Core AMD R5-5600H - (8 GB/51...</td>\n",
       "      <td>4.7</td>\n",
       "      <td>71990</td>\n",
       "      <td>NVIDIA RTX 3050 Graphics upto 90W TGP15.6 inch...</td>\n",
       "      <td>DELL</td>\n",
       "      <td></td>\n",
       "      <td>64 bit Windows 11</td>\n",
       "      <td>8 GB</td>\n",
       "      <td>512 GB SSD</td>\n",
       "      <td>15.6</td>\n",
       "      <td>DDR4</td>\n",
       "    </tr>\n",
       "    <tr>\n",
       "      <th>688</th>\n",
       "      <td>ALIENWARE Core i7 10th Gen - (16 GB/1 TB SSD/W...</td>\n",
       "      <td>4.1</td>\n",
       "      <td>214790</td>\n",
       "      <td>NVIDIA GeForce RTX 206015.6 inch Full HD LED B...</td>\n",
       "      <td>ALIENWARE</td>\n",
       "      <td></td>\n",
       "      <td>64 bit Windows 10</td>\n",
       "      <td>16 GB</td>\n",
       "      <td>1 TB SSD</td>\n",
       "      <td>15.6</td>\n",
       "      <td>DDR4</td>\n",
       "    </tr>\n",
       "    <tr>\n",
       "      <th>689</th>\n",
       "      <td>ALIENWARE Core i7 10th Gen - (16 GB/512 GB SSD...</td>\n",
       "      <td>4.9</td>\n",
       "      <td>199990</td>\n",
       "      <td>NVIDIA GeForce GTX 1660 Ti15.6 inch Full HD LE...</td>\n",
       "      <td>ALIENWARE</td>\n",
       "      <td></td>\n",
       "      <td>64 bit Windows 10</td>\n",
       "      <td>16 GB</td>\n",
       "      <td>512 GB SSD</td>\n",
       "      <td>15.6</td>\n",
       "      <td>DDR4</td>\n",
       "    </tr>\n",
       "  </tbody>\n",
       "</table>\n",
       "</div>"
      ],
      "text/plain": [
       "                                               Product  Rating     MRP  \\\n",
       "6    DELL Inspiron Core i3 11th Gen - (8 GB/1 TB HD...     4.3   38990   \n",
       "8    realme Book (Slim) Core i3 11th Gen - (8 GB/25...     4.4   46990   \n",
       "29   realme Book (Slim) Core i3 11th Gen - (8 GB/25...     4.4   46990   \n",
       "33   acer Aspire 7 Ryzen 5 Hexa Core AMD R5-5500U -...     4.4   47990   \n",
       "53   realme Book(Slim) Intel Evo Core i5 11th Gen -...     4.4   59990   \n",
       "54   acer Aspire 7 Core i5 10th Gen - (8 GB/512 GB ...     4.4   47990   \n",
       "69   DELL Ryzen 5 Hexa Core AMD R5-5600H - (16 GB/5...     4.6   70990   \n",
       "83   SAMSUNG Galaxy Book Go Snapdragon 7c Gen 2 - (...     4.4   32990   \n",
       "94   DELL Inspiron Pentium Silver - (8 GB/256 GB SS...     4.2   30428   \n",
       "116  realme Book(Slim) Intel Evo Core i5 11th Gen -...     4.4   59990   \n",
       "122  DELL Ryzen 7 Octa Core AMD R7-5800H - (16 GB/5...     5.0   89081   \n",
       "142  DELL Vostro Ryzen 3 Dual Core R3-3250U - (8 GB...     3.8   33099   \n",
       "172  DELL Inspiron Core i3 11th Gen - (8 GB/1 TB HD...     4.3   45900   \n",
       "232  MSI Pulse GL66 Core i7 11th Gen - (16 GB/1 TB ...     4.5  114990   \n",
       "249  DELL Inspiron Core i3 11th Gen - (8 GB/256 GB ...     4.3   54900   \n",
       "253  DELL Inspiron Ryzen 5 Dual Core 3450U - (8 GB/...     4.3   48184   \n",
       "259  DELL Core i5 11th Gen - (8 GB/512 GB SSD/Windo...     4.4   67990   \n",
       "349  DELL Vostro Core i5 11th Gen - (8 GB/512 GB SS...     3.9   63090   \n",
       "355  DELL Vostro Core i3 10th Gen - (8 GB/512 GB SS...     4.1   43090   \n",
       "393  acer Aspire 5 Core i5 11th Gen - (8 GB/1 TB HD...     4.0   47130   \n",
       "438  acer Predator Helios 300 Core i5 7th Gen - (8 ...     4.5  129999   \n",
       "443  MSI Pulse GL66 Core i7 11th Gen - (16 GB/512 G...     4.6  107790   \n",
       "502  acer Nitro 5 Ryzen 5 Hexa Core 4600H - (8 GB/1...     4.5   61490   \n",
       "508  MSI GF63 Thin Core i5 9th Gen - (8 GB/1 TB HDD...     4.2   62190   \n",
       "593  DELL Core i7 11th Gen - (16 GB/512 GB SSD/Wind...     4.2  101990   \n",
       "622  MSI GP65 Leopard Core i7 10th Gen - (16 GB/1 T...     4.5   99990   \n",
       "628  ALIENWARE Core i9 10th Gen - (32 GB/1 TB SSD/W...     4.6  345390   \n",
       "643  ASUS ZenBook Pro 15 Core i7 8th Gen - (16 GB/1...     4.8  110990   \n",
       "644  acer Predator Helios 300 Core i5 8th Gen - (8 ...     4.6   74590   \n",
       "645  DELL Ryzen 5 Hexa Core AMD R5-5600H - (8 GB/51...     4.7   71990   \n",
       "688  ALIENWARE Core i7 10th Gen - (16 GB/1 TB SSD/W...     4.1  214790   \n",
       "689  ALIENWARE Core i7 10th Gen - (16 GB/512 GB SSD...     4.9  199990   \n",
       "\n",
       "                                               Feature      Brand  \\\n",
       "6    Processor: Intel i3-1115G4 (Base- 1.70 GHz & T...       DELL   \n",
       "8    Stylish & Portable Thin and Light Laptop14 inc...     realme   \n",
       "29   Stylish & Portable Thin and Light Laptop14 inc...     realme   \n",
       "33   Free upgrade to Windows 11 when availableAMD R...       acer   \n",
       "53   Powered by 11th Gen Intel Evo Core i5 Processo...     realme   \n",
       "54   Free upgrade to Windows 11 when availableIntel...       acer   \n",
       "69   Processor: AMD Ryzen R5-5600H (3.30 GHz up to ...       DELL   \n",
       "83   Qualcomm Snapdragon 7c Gen 2 Processor4 GB LPD...    SAMSUNG   \n",
       "94   Processor: Intel PQC-N5030 (1.10 GHz up to 3.1...       DELL   \n",
       "116  Powered by 11th Gen Intel Evo Core i5 Processo...     realme   \n",
       "122  NVIDIA RTX 3050 Graphics upto 90W TGP15.6 inch...       DELL   \n",
       "142  Processor: AMD Ryzen 3-3250U (2.60 GHz up to 3...       DELL   \n",
       "172  Processor: Intel i3-1115G4 (Base- 1.70 GHz & T...       DELL   \n",
       "232  Pre-installed Genuine Windows 10 Home OSIntel ...        MSI   \n",
       "249  Processor: Intel i3-1125G4 (2.00 GHz up to 3.7...       DELL   \n",
       "253  Processor: AMD Ryzen 5-3450U (2.10 GHz up to 3...       DELL   \n",
       "259  NVIDIA RTX 3050 Graphics upto 90W TGP15.6 inch...       DELL   \n",
       "349  Processor: 11th Generation Intel Core i5-1135G...       DELL   \n",
       "355  Processor: 10th Generation Intel Core i3-1005G...       DELL   \n",
       "393  Free upgrade to Windows 11 when availableIntel...       acer   \n",
       "438  Pre-installed Genuine Windows 10 Operating Sys...       acer   \n",
       "443  Pre-installed Genuine Windows 10 Home OSIntel ...        MSI   \n",
       "502  Free upgrade to Windows 11 when availableAMD R...       acer   \n",
       "508  15.6 inches Full HD IPS Thin Bezel Display (60...        MSI   \n",
       "593  Processor: Intel i7-11800H- (2.30 GHz up to 4....       DELL   \n",
       "622  15.6 inches Full HD IPS Thin Bezel Display (14...        MSI   \n",
       "628  NVIDIA GeForce RTX 2080 with Max-Q15.6 inch Fu...  ALIENWARE   \n",
       "643  First Ever ScreenpadNVIDIA GeForce GTX 1050 Ti...       ASUS   \n",
       "644  NVIDIA Geforce GTX 1050 Ti for Desktop Level P...       acer   \n",
       "645  NVIDIA RTX 3050 Graphics upto 90W TGP15.6 inch...       DELL   \n",
       "688  NVIDIA GeForce RTX 206015.6 inch Full HD LED B...  ALIENWARE   \n",
       "689  NVIDIA GeForce GTX 1660 Ti15.6 inch Full HD LE...  ALIENWARE   \n",
       "\n",
       "    Processor_Type                    Operating_System               RAM  \\\n",
       "6                                           Windows 11              8 GB   \n",
       "8                                    64 bit Windows 10              8 GB   \n",
       "29                                   64 bit Windows 10              8 GB   \n",
       "33                                   64 bit Windows 11              8 GB   \n",
       "53                                   64 bit Windows 10              8 GB   \n",
       "54                                   64 bit Windows 10              8 GB   \n",
       "69                                   64 bit Windows 11             16 GB   \n",
       "83                                          Windows 11              4 GB   \n",
       "94                                   64 bit Windows 11              8 GB   \n",
       "116                                  64 bit Windows 10              8 GB   \n",
       "122                                  64 bit Windows 11             16 GB   \n",
       "142                                  64 bit Windows 11              8 GB   \n",
       "172                                  64 bit Windows 11              8 GB   \n",
       "232                                  64 bit Windows 10             16 GB   \n",
       "249                                  64 bit Windows 11              8 GB   \n",
       "253                                  64 bit Windows 11              8 GB   \n",
       "259                                  64 bit Windows 11              8 GB   \n",
       "349                 5Operating System64 bit Windows 10              8 GB   \n",
       "355                                  64 bit Windows 10              8 GB   \n",
       "393                                  64 bit Windows 10              8 GB   \n",
       "438                        Windows 1064 bit Windows 10  128 GB512 GB8 GB   \n",
       "443                                  64 bit Windows 10             16 GB   \n",
       "502                                  64 bit Windows 10              8 GB   \n",
       "508                                  64 bit Windows 10              8 GB   \n",
       "593                                  64 bit Windows 11             16 GB   \n",
       "622                                  64 bit Windows 10             16 GB   \n",
       "628                                  64 bit Windows 10             32 GB   \n",
       "643                                  64 bit Windows 10             16 GB   \n",
       "644                                  64 bit Windows 10              8 GB   \n",
       "645                                  64 bit Windows 11              8 GB   \n",
       "688                                  64 bit Windows 10             16 GB   \n",
       "689                                  64 bit Windows 10             16 GB   \n",
       "\n",
       "                          Storage Display_inchs  \\\n",
       "6              1 TB HDD256 GB SSD          15.6   \n",
       "8                      256 GB SSD            14   \n",
       "29                     256 GB SSD            14   \n",
       "33                     512 GB SSD          15.6   \n",
       "53                     512 GB SSD            14   \n",
       "54                     512 GB SSD          15.6   \n",
       "69                     512 GB SSD          15.6   \n",
       "83                                           14   \n",
       "94                     256 GB SSD          15.6   \n",
       "116                    512 GB SSD            14   \n",
       "122                    512 GB SSD          15.6   \n",
       "142                      1 TB HDD           NaN   \n",
       "172            1 TB HDD256 GB SSD          15.6   \n",
       "232                      1 TB SSD          15.6   \n",
       "249                    256 GB SSD            14   \n",
       "253                    512 GB SSD          15.6   \n",
       "259                    512 GB SSD          15.6   \n",
       "349                    512 GB SSD           NaN   \n",
       "355                    512 GB SSD            14   \n",
       "393                      1 TB HDD          15.6   \n",
       "438  128 GB SSD1 TB HDD128 GB SSD          15.6   \n",
       "443                    512 GB SSD          15.6   \n",
       "502            1 TB HDD256 GB SSD          15.6   \n",
       "508                      1 TB HDD          15.6   \n",
       "593                    512 GB SSD          15.6   \n",
       "622            1 TB HDD256 GB SSD          15.6   \n",
       "628                      1 TB SSD          15.6   \n",
       "643                      1 TB SSD          15.6   \n",
       "644  128 GB SSD1 TB HDD128 GB SSD          15.6   \n",
       "645                    512 GB SSD          15.6   \n",
       "688                      1 TB SSD          15.6   \n",
       "689                    512 GB SSD          15.6   \n",
       "\n",
       "                                              RAM_Type  \n",
       "6                                                 DDR4  \n",
       "8                                                 DDR4  \n",
       "29                                                DDR4  \n",
       "33                                                DDR4  \n",
       "53                                                DDR4  \n",
       "54                                                DDR4  \n",
       "69                                                DDR4  \n",
       "83                                             LPDDR4X  \n",
       "94                                                DDR4  \n",
       "116                                               DDR4  \n",
       "122                                               DDR4  \n",
       "142                                               DDR4  \n",
       "172                                               DDR4  \n",
       "232                                               DDR4  \n",
       "249                                               DDR4  \n",
       "253                                               DDR4  \n",
       "259                                               DDR4  \n",
       "349                                               DDR4  \n",
       "355                                               DDR4  \n",
       "393                                               DDR4  \n",
       "438  SSD for Reduced Boot Up Time and in Game Loadi...  \n",
       "443                                               DDR4  \n",
       "502                                               DDR4  \n",
       "508                                               DDR4  \n",
       "593                                               DDR4  \n",
       "622                                               DDR4  \n",
       "628                                               DDR4  \n",
       "643                                               DDR4  \n",
       "644                                               DDR4  \n",
       "645                                               DDR4  \n",
       "688                                               DDR4  \n",
       "689                                               DDR4  "
      ]
     },
     "execution_count": 21,
     "metadata": {},
     "output_type": "execute_result"
    }
   ],
   "source": [
    "df[df['Processor_Type']=='']"
   ]
  },
  {
   "cell_type": "code",
   "execution_count": 22,
   "id": "b2b3322b",
   "metadata": {},
   "outputs": [],
   "source": [
    "df.iloc[6,5]='Intel i3-1115G4'\n",
    "df.iloc[8,5]='Intel Core i3'\n",
    "df.iloc[29,5]='Intel Core i3'\n",
    "df.iloc[33,5]='AMD Ryzen 5 Hexa Core'\n",
    "df.iloc[53,5]='Intel Evo Core i5'\n",
    "df.iloc[54,5]='Intel Core i5'\n",
    "df.iloc[69,5]='AMD Ryzen R5-5600H'\n",
    "df.iloc[83,5]='Qualcomm Snapdragon 7c Gen 2'\n",
    "df.iloc[94,5]='Intel PQC-N5030'\n",
    "df.iloc[116,5]='Gen Intel Evo Core i5'\n",
    "df.iloc[122,5]='AMD Ryzen 7 Octa Core'\n",
    "df.iloc[142,5]='AMD Ryzen 3 Dual Core'\n",
    "df.iloc[172,5]='Intel i3-1115G4'\n",
    "df.iloc[232,5]='Intel Core i7'\n",
    "df.iloc[249,5]='Intel i3-1125G4'\n",
    "df.iloc[253,5]='AMD Ryzen 5-3450U'\n",
    "df.iloc[259,5]='Intel Core i5'\n",
    "df.iloc[349,5]='Intel Core i5-1135G7'\n",
    "df.iloc[355,5]='Intel Core i3-1005G1'\n",
    "df.iloc[393,5]='Intel Core i5'\n",
    "df.iloc[438,5]='Intel Core i5'\n",
    "df.iloc[443,5]='Intel Core i7'\n",
    "df.iloc[502,5]='AMD Ryzen 5 Hexa Core'\n",
    "df.iloc[508,5]='Intel Core i5 Pro'\n",
    "df.iloc[593,5]='Intel i7-11800H'\n",
    "df.iloc[622,5]='Intel Core i7'\n",
    "df.iloc[628,5]='Intel Core i9'\n",
    "df.iloc[643,5]='Intel Core i7'\n",
    "df.iloc[644,5]='Intel Core i5'\n",
    "df.iloc[645,5]='AMD Ryzen 5 Hexa Core'\n",
    "df.iloc[688,5]='Intel Core i7'\n",
    "df.iloc[689,5]='Intel Core i7'"
   ]
  },
  {
   "cell_type": "code",
   "execution_count": 23,
   "id": "2f1ad8b5",
   "metadata": {},
   "outputs": [
    {
     "data": {
      "text/plain": [
       "Intel Core i5                   155\n",
       "Intel Core i3                   131\n",
       "AMD Ryzen 9 Octa Core            87\n",
       "AMD Ryzen 7 Octa Core            80\n",
       "Intel Core i7                    55\n",
       "AMD Ryzen 5 Hexa Core            51\n",
       "AMD Ryzen 3 Dual Core            43\n",
       "AMD Ryzen 5 Quad Core            37\n",
       "Intel Celeron Dual Core          20\n",
       "Intel Core i9                    11\n",
       "Apple M1                          7\n",
       "Apple M1 Pro                      6\n",
       "Apple M2                          5\n",
       "AMD Ryzen 3 Quad Core             4\n",
       "Intel Celeron Quad Core           3\n",
       "Intel Pentium Quad Core           3\n",
       "Intel i3-1115G4                   2\n",
       "AMD Athlon Dual Core              2\n",
       "Intel Pentium Silver              2\n",
       "Intel Core i3-1005G1              1\n",
       "Intel Core i5-1135G7              1\n",
       "AMD Dual Core                     1\n",
       "Intel Core i5 Pro                 1\n",
       "AMD Ryzen 5-3450U                 1\n",
       "Intel i7-11800H                   1\n",
       "AMD Ryzen 5 Dual Core             1\n",
       "Intel PQC-N5030                   1\n",
       "Intel i3-1125G4                   1\n",
       "Apple M1 Max                      1\n",
       "Gen Intel Evo Core i5             1\n",
       "AMD Ryzen 7 Quad Core             1\n",
       "Qualcomm Snapdragon 7c Gen 2      1\n",
       "AMD Ryzen R5-5600H                1\n",
       "Intel Evo Core i5                 1\n",
       "AMD Ryzen 3 Hexa Core             1\n",
       "Name: Processor_Type, dtype: int64"
      ]
     },
     "execution_count": 23,
     "metadata": {},
     "output_type": "execute_result"
    }
   ],
   "source": [
    "df['Processor_Type'].value_counts()"
   ]
  },
  {
   "cell_type": "code",
   "execution_count": 24,
   "id": "224935e6",
   "metadata": {},
   "outputs": [],
   "source": [
    "df['Processor_Type'].replace(\"Gen Intel Evo Core i5\",\"Intel Evo Core i5\", inplace=True)"
   ]
  },
  {
   "cell_type": "code",
   "execution_count": 25,
   "id": "74087d97",
   "metadata": {},
   "outputs": [
    {
     "data": {
      "text/plain": [
       "Intel       390\n",
       "AMD         310\n",
       "Apple        19\n",
       "Qualcomm      1\n",
       "Name: Processor, dtype: int64"
      ]
     },
     "execution_count": 25,
     "metadata": {},
     "output_type": "execute_result"
    }
   ],
   "source": [
    "df[['Processor','x','y','z','a']]=df['Processor_Type'].str.split(\" \", expand=True)\n",
    "df.drop(['Processor_Type','x','y','z','a'], axis=1, inplace=True)\n",
    "df['Processor'].value_counts()"
   ]
  },
  {
   "cell_type": "code",
   "execution_count": 26,
   "id": "387b8938",
   "metadata": {},
   "outputs": [
    {
     "data": {
      "text/plain": [
       "64 bit Windows 11                     404\n",
       "Windows 11                            156\n",
       "64 bit Windows 10                     115\n",
       "MMac OS                                19\n",
       "Windows 10                             12\n",
       "MChrome                                 6\n",
       "OS                                      2\n",
       "64 bit DOS                              2\n",
       "32 bit Windows 11                       1\n",
       "5Operating System64 bit Windows 10      1\n",
       " Windows 1064 bit Windows 10            1\n",
       "64 bit Chrome                           1\n",
       "Name: Operating_System, dtype: int64"
      ]
     },
     "execution_count": 26,
     "metadata": {},
     "output_type": "execute_result"
    }
   ],
   "source": [
    "df['Operating_System'].value_counts()"
   ]
  },
  {
   "cell_type": "code",
   "execution_count": 27,
   "id": "22537199",
   "metadata": {},
   "outputs": [
    {
     "data": {
      "text/plain": [
       "0"
      ]
     },
     "execution_count": 27,
     "metadata": {},
     "output_type": "execute_result"
    }
   ],
   "source": [
    "len(df[df['Operating_System']==''])"
   ]
  },
  {
   "cell_type": "code",
   "execution_count": 28,
   "id": "bf0fb34f",
   "metadata": {},
   "outputs": [
    {
     "data": {
      "text/plain": [
       "Windows 11    561\n",
       "Windows 10    129\n",
       "Mac            21\n",
       "Chrome          7\n",
       "DOS             2\n",
       "Name: Operating_System, dtype: int64"
      ]
     },
     "execution_count": 28,
     "metadata": {},
     "output_type": "execute_result"
    }
   ],
   "source": [
    "df['Operating_System'].replace({'MMac OS':'Mac', 'OS':'Mac', 'MChrome':'Chrome',\n",
    "                                '5Operating System64 bit Windows 10':'Windows 10',\n",
    "                               ' Windows 1064 bit Windows 10':'Windows 10',\n",
    "                               '64 bit Chrome':'Chrome'}, inplace=True)\n",
    "\n",
    "df['Operating_System']=df['Operating_System'].apply(lambda x: x.replace('64 bit ', '').replace('32 bit ','').replace('64 bit ',''))\n",
    "df['Operating_System'].value_counts()"
   ]
  },
  {
   "cell_type": "code",
   "execution_count": 29,
   "id": "02b0e9fe",
   "metadata": {},
   "outputs": [],
   "source": [
    "df['RAM']=df['RAM'].apply(lambda x: x.replace(\"128 GB512 GB8 GB\",\"8 GB\"))"
   ]
  },
  {
   "cell_type": "code",
   "execution_count": 30,
   "id": "41e75083",
   "metadata": {},
   "outputs": [
    {
     "data": {
      "text/plain": [
       "8 GB     403\n",
       "16 GB    263\n",
       "4 GB      37\n",
       "32 GB     17\n",
       "Name: RAM, dtype: int64"
      ]
     },
     "execution_count": 30,
     "metadata": {},
     "output_type": "execute_result"
    }
   ],
   "source": [
    "df['RAM'].value_counts()"
   ]
  },
  {
   "cell_type": "code",
   "execution_count": 31,
   "id": "585c2480",
   "metadata": {},
   "outputs": [
    {
     "data": {
      "text/plain": [
       "DDR4                                                                                           560\n",
       "DDR5                                                                                            92\n",
       "LPDDR4X                                                                                         37\n",
       "Unified Memory                                                                                  12\n",
       "LPDDR5                                                                                           9\n",
       "LPDDR4                                                                                           8\n",
       "SSD for Reduced Boot Up Time and in Game LoadingUpgradable SSD Upto 512 GB and RAM8 GB DDR4      1\n",
       "LPDDR3                                                                                           1\n",
       "Name: RAM_Type, dtype: int64"
      ]
     },
     "execution_count": 31,
     "metadata": {},
     "output_type": "execute_result"
    }
   ],
   "source": [
    "df['RAM']=df['RAM'].apply(lambda x: x.replace(\"64GB EMMC\",\"64 GB\"))\n",
    "df['RAM']=df['RAM'].apply(lambda x: x.replace(\"128GB EMMC\",\"64 GB\"))\n",
    "df['RAM']=df['RAM'].apply(lambda x: x.replace(\"32GB EMMC\",\"32 GB\"))\n",
    "df['RAM_Type'].value_counts()"
   ]
  },
  {
   "cell_type": "code",
   "execution_count": 32,
   "id": "12f592f3",
   "metadata": {},
   "outputs": [],
   "source": [
    "df['RAM_Type']=df['RAM_Type'].apply(lambda x: x.replace(\"SSD for Reduced Boot Up Time and in Game LoadingUpgradable SSD Upto 512 GB and RAM8 GB DDR4\",\"DDR4\"))\n",
    "df['RAM_Type']=df['RAM_Type'].apply(lambda x: x.replace(\"Unified Memory\",\"Unified\"))"
   ]
  },
  {
   "cell_type": "code",
   "execution_count": 33,
   "id": "04d74c79",
   "metadata": {},
   "outputs": [
    {
     "data": {
      "text/plain": [
       "DDR4       561\n",
       "DDR5        92\n",
       "LPDDR4X     37\n",
       "Unified     12\n",
       "LPDDR5       9\n",
       "LPDDR4       8\n",
       "LPDDR3       1\n",
       "Name: RAM_Type, dtype: int64"
      ]
     },
     "execution_count": 33,
     "metadata": {},
     "output_type": "execute_result"
    }
   ],
   "source": [
    "df['RAM_Type'].value_counts()"
   ]
  },
  {
   "cell_type": "code",
   "execution_count": 34,
   "id": "cc0759e6",
   "metadata": {},
   "outputs": [
    {
     "data": {
      "text/plain": [
       "512 GB SSD                      375\n",
       "1 TB SSD                        176\n",
       "256 GB SSD                       98\n",
       "1 TB HDD256 GB SSD               26\n",
       "1 TB HDD                         17\n",
       "                                 10\n",
       "2 TB SSD                          7\n",
       "128 GB SSD                        6\n",
       "1 TB HDD512 GB SSD                2\n",
       "128 GB SSD1 TB HDD128 GB SSD      2\n",
       "256 GB HDD256 GB SSD              1\n",
       "Name: Storage, dtype: int64"
      ]
     },
     "execution_count": 34,
     "metadata": {},
     "output_type": "execute_result"
    }
   ],
   "source": [
    "df['Storage'].value_counts()"
   ]
  },
  {
   "cell_type": "code",
   "execution_count": 35,
   "id": "b8dced1b",
   "metadata": {},
   "outputs": [
    {
     "data": {
      "text/html": [
       "<div>\n",
       "<style scoped>\n",
       "    .dataframe tbody tr th:only-of-type {\n",
       "        vertical-align: middle;\n",
       "    }\n",
       "\n",
       "    .dataframe tbody tr th {\n",
       "        vertical-align: top;\n",
       "    }\n",
       "\n",
       "    .dataframe thead th {\n",
       "        text-align: right;\n",
       "    }\n",
       "</style>\n",
       "<table border=\"1\" class=\"dataframe\">\n",
       "  <thead>\n",
       "    <tr style=\"text-align: right;\">\n",
       "      <th></th>\n",
       "      <th>Product</th>\n",
       "      <th>Rating</th>\n",
       "      <th>MRP</th>\n",
       "      <th>Feature</th>\n",
       "      <th>Brand</th>\n",
       "      <th>Operating_System</th>\n",
       "      <th>RAM</th>\n",
       "      <th>Storage</th>\n",
       "      <th>Display_inchs</th>\n",
       "      <th>RAM_Type</th>\n",
       "      <th>Processor</th>\n",
       "    </tr>\n",
       "  </thead>\n",
       "  <tbody>\n",
       "    <tr>\n",
       "      <th>83</th>\n",
       "      <td>SAMSUNG Galaxy Book Go Snapdragon 7c Gen 2 - (...</td>\n",
       "      <td>4.4</td>\n",
       "      <td>32990</td>\n",
       "      <td>Qualcomm Snapdragon 7c Gen 2 Processor4 GB LPD...</td>\n",
       "      <td>SAMSUNG</td>\n",
       "      <td>Windows 11</td>\n",
       "      <td>4 GB</td>\n",
       "      <td></td>\n",
       "      <td>14</td>\n",
       "      <td>LPDDR4X</td>\n",
       "      <td>Qualcomm</td>\n",
       "    </tr>\n",
       "    <tr>\n",
       "      <th>89</th>\n",
       "      <td>Lenovo IdeaPad 3 CB Celeron Dual Core - (4 GB/...</td>\n",
       "      <td>NaN</td>\n",
       "      <td>19490</td>\n",
       "      <td>Intel Celeron Dual Core Processor4 GB DDR4 RAM...</td>\n",
       "      <td>Lenovo</td>\n",
       "      <td>Chrome</td>\n",
       "      <td>4 GB</td>\n",
       "      <td></td>\n",
       "      <td>14</td>\n",
       "      <td>DDR4</td>\n",
       "      <td>Intel</td>\n",
       "    </tr>\n",
       "    <tr>\n",
       "      <th>96</th>\n",
       "      <td>Lenovo IdeaPad 3 CB Celeron Dual Core - (4 GB/...</td>\n",
       "      <td>NaN</td>\n",
       "      <td>19490</td>\n",
       "      <td>Intel Celeron Dual Core Processor4 GB DDR4 RAM...</td>\n",
       "      <td>Lenovo</td>\n",
       "      <td>Chrome</td>\n",
       "      <td>4 GB</td>\n",
       "      <td></td>\n",
       "      <td>14</td>\n",
       "      <td>DDR4</td>\n",
       "      <td>Intel</td>\n",
       "    </tr>\n",
       "    <tr>\n",
       "      <th>345</th>\n",
       "      <td>ASUS Chromebook Flip Touch Celeron Dual Core -...</td>\n",
       "      <td>4.0</td>\n",
       "      <td>14990</td>\n",
       "      <td>Intel Celeron Dual Core Processor4 GB LPDDR4 R...</td>\n",
       "      <td>ASUS</td>\n",
       "      <td>Chrome</td>\n",
       "      <td>4 GB</td>\n",
       "      <td></td>\n",
       "      <td>11.6</td>\n",
       "      <td>LPDDR4</td>\n",
       "      <td>Intel</td>\n",
       "    </tr>\n",
       "    <tr>\n",
       "      <th>509</th>\n",
       "      <td>ASUS Chromebook Flip Touch Celeron Dual Core -...</td>\n",
       "      <td>4.0</td>\n",
       "      <td>24390</td>\n",
       "      <td>Intel Celeron Dual Core Processor4 GB LPDDR4 R...</td>\n",
       "      <td>ASUS</td>\n",
       "      <td>Chrome</td>\n",
       "      <td>4 GB</td>\n",
       "      <td></td>\n",
       "      <td>15.6</td>\n",
       "      <td>LPDDR4</td>\n",
       "      <td>Intel</td>\n",
       "    </tr>\n",
       "    <tr>\n",
       "      <th>544</th>\n",
       "      <td>ASUS EeeBook 12 Celeron Dual Core - (4 GB/64 G...</td>\n",
       "      <td>4.5</td>\n",
       "      <td>21990</td>\n",
       "      <td>Intel Celeron Dual Core Processor4 GB DDR4 RAM...</td>\n",
       "      <td>ASUS</td>\n",
       "      <td>Windows 11</td>\n",
       "      <td>4 GB</td>\n",
       "      <td></td>\n",
       "      <td>11.6</td>\n",
       "      <td>DDR4</td>\n",
       "      <td>Intel</td>\n",
       "    </tr>\n",
       "    <tr>\n",
       "      <th>559</th>\n",
       "      <td>ASUS EeeBook 12 Celeron Dual Core - (4 GB/64 G...</td>\n",
       "      <td>4.0</td>\n",
       "      <td>19990</td>\n",
       "      <td>Intel Celeron Dual Core Processor4 GB DDR4 RAM...</td>\n",
       "      <td>ASUS</td>\n",
       "      <td>Windows 11</td>\n",
       "      <td>4 GB</td>\n",
       "      <td></td>\n",
       "      <td>11.6</td>\n",
       "      <td>DDR4</td>\n",
       "      <td>Intel</td>\n",
       "    </tr>\n",
       "    <tr>\n",
       "      <th>632</th>\n",
       "      <td>Lenovo IdeaPad Flex 3 Chromebook Celeron Dual ...</td>\n",
       "      <td>3.6</td>\n",
       "      <td>28490</td>\n",
       "      <td>Intel Celeron Dual Core Processor4 GB LPDDR4X ...</td>\n",
       "      <td>Lenovo</td>\n",
       "      <td>Chrome</td>\n",
       "      <td>4 GB</td>\n",
       "      <td></td>\n",
       "      <td>11.6</td>\n",
       "      <td>LPDDR4X</td>\n",
       "      <td>Intel</td>\n",
       "    </tr>\n",
       "    <tr>\n",
       "      <th>695</th>\n",
       "      <td>ASUS Chromebook Celeron Dual Core - (4 GB/64 G...</td>\n",
       "      <td>4.1</td>\n",
       "      <td>25990</td>\n",
       "      <td>Intel Celeron Dual Core Processor4 GB LPDDR4 R...</td>\n",
       "      <td>ASUS</td>\n",
       "      <td>Chrome</td>\n",
       "      <td>4 GB</td>\n",
       "      <td></td>\n",
       "      <td>14</td>\n",
       "      <td>LPDDR4</td>\n",
       "      <td>Intel</td>\n",
       "    </tr>\n",
       "    <tr>\n",
       "      <th>715</th>\n",
       "      <td>ASUS Chromebook Flip Touch Celeron Dual Core -...</td>\n",
       "      <td>4.0</td>\n",
       "      <td>23490</td>\n",
       "      <td>Intel Celeron Dual Core Processor4 GB LPDDR4 R...</td>\n",
       "      <td>ASUS</td>\n",
       "      <td>Chrome</td>\n",
       "      <td>4 GB</td>\n",
       "      <td></td>\n",
       "      <td>11.6</td>\n",
       "      <td>LPDDR4</td>\n",
       "      <td>Intel</td>\n",
       "    </tr>\n",
       "  </tbody>\n",
       "</table>\n",
       "</div>"
      ],
      "text/plain": [
       "                                               Product  Rating    MRP  \\\n",
       "83   SAMSUNG Galaxy Book Go Snapdragon 7c Gen 2 - (...     4.4  32990   \n",
       "89   Lenovo IdeaPad 3 CB Celeron Dual Core - (4 GB/...     NaN  19490   \n",
       "96   Lenovo IdeaPad 3 CB Celeron Dual Core - (4 GB/...     NaN  19490   \n",
       "345  ASUS Chromebook Flip Touch Celeron Dual Core -...     4.0  14990   \n",
       "509  ASUS Chromebook Flip Touch Celeron Dual Core -...     4.0  24390   \n",
       "544  ASUS EeeBook 12 Celeron Dual Core - (4 GB/64 G...     4.5  21990   \n",
       "559  ASUS EeeBook 12 Celeron Dual Core - (4 GB/64 G...     4.0  19990   \n",
       "632  Lenovo IdeaPad Flex 3 Chromebook Celeron Dual ...     3.6  28490   \n",
       "695  ASUS Chromebook Celeron Dual Core - (4 GB/64 G...     4.1  25990   \n",
       "715  ASUS Chromebook Flip Touch Celeron Dual Core -...     4.0  23490   \n",
       "\n",
       "                                               Feature    Brand  \\\n",
       "83   Qualcomm Snapdragon 7c Gen 2 Processor4 GB LPD...  SAMSUNG   \n",
       "89   Intel Celeron Dual Core Processor4 GB DDR4 RAM...   Lenovo   \n",
       "96   Intel Celeron Dual Core Processor4 GB DDR4 RAM...   Lenovo   \n",
       "345  Intel Celeron Dual Core Processor4 GB LPDDR4 R...     ASUS   \n",
       "509  Intel Celeron Dual Core Processor4 GB LPDDR4 R...     ASUS   \n",
       "544  Intel Celeron Dual Core Processor4 GB DDR4 RAM...     ASUS   \n",
       "559  Intel Celeron Dual Core Processor4 GB DDR4 RAM...     ASUS   \n",
       "632  Intel Celeron Dual Core Processor4 GB LPDDR4X ...   Lenovo   \n",
       "695  Intel Celeron Dual Core Processor4 GB LPDDR4 R...     ASUS   \n",
       "715  Intel Celeron Dual Core Processor4 GB LPDDR4 R...     ASUS   \n",
       "\n",
       "    Operating_System   RAM Storage Display_inchs RAM_Type Processor  \n",
       "83        Windows 11  4 GB                    14  LPDDR4X  Qualcomm  \n",
       "89            Chrome  4 GB                    14     DDR4     Intel  \n",
       "96            Chrome  4 GB                    14     DDR4     Intel  \n",
       "345           Chrome  4 GB                  11.6   LPDDR4     Intel  \n",
       "509           Chrome  4 GB                  15.6   LPDDR4     Intel  \n",
       "544       Windows 11  4 GB                  11.6     DDR4     Intel  \n",
       "559       Windows 11  4 GB                  11.6     DDR4     Intel  \n",
       "632           Chrome  4 GB                  11.6  LPDDR4X     Intel  \n",
       "695           Chrome  4 GB                    14   LPDDR4     Intel  \n",
       "715           Chrome  4 GB                  11.6   LPDDR4     Intel  "
      ]
     },
     "execution_count": 35,
     "metadata": {},
     "output_type": "execute_result"
    }
   ],
   "source": [
    "df[df['Storage']=='']"
   ]
  },
  {
   "cell_type": "code",
   "execution_count": 36,
   "id": "2ccb18da",
   "metadata": {},
   "outputs": [
    {
     "data": {
      "text/plain": [
       "10"
      ]
     },
     "execution_count": 36,
     "metadata": {},
     "output_type": "execute_result"
    }
   ],
   "source": [
    "len(df[df['Storage']==''])"
   ]
  },
  {
   "cell_type": "code",
   "execution_count": 37,
   "id": "1039eb0a",
   "metadata": {},
   "outputs": [],
   "source": [
    "df['Storage'].replace({'256 GB SSD':'256GB SSD'}, inplace=True)\n",
    "df['Storage'].replace({'512 GB SSD':'512GB SSD'}, inplace=True)\n",
    "df['Storage'].replace({'1 TB SSD':'1TB SSD'}, inplace=True)\n",
    "df['Storage'].replace({'1 TB HDD':'1TB HDD'}, inplace=True)\n",
    "df['Storage'].replace({'128 GB SSD':'128GB SSD'}, inplace=True)\n",
    "df['Storage'].replace({'2 TB SSD':'2TB SSD'}, inplace=True)\n",
    "df['Storage'].replace({'1 TB HDD256 GB SSD':'1TB HDD'}, inplace=True)\n",
    "df['Storage'].replace({'256 GB HDD256 GB SSD':'256GB HDD'}, inplace=True)\n",
    "df['Storage'].replace({'1 TB HDD512 GB SSD':'1TB HDD'}, inplace=True)\n",
    "df['Storage'].replace({'128 GB SSD1 TB HDD128 GB SSD':'1TB HDD'}, inplace=True)"
   ]
  },
  {
   "cell_type": "code",
   "execution_count": 38,
   "id": "3d30f22e",
   "metadata": {},
   "outputs": [
    {
     "data": {
      "text/html": [
       "<div>\n",
       "<style scoped>\n",
       "    .dataframe tbody tr th:only-of-type {\n",
       "        vertical-align: middle;\n",
       "    }\n",
       "\n",
       "    .dataframe tbody tr th {\n",
       "        vertical-align: top;\n",
       "    }\n",
       "\n",
       "    .dataframe thead th {\n",
       "        text-align: right;\n",
       "    }\n",
       "</style>\n",
       "<table border=\"1\" class=\"dataframe\">\n",
       "  <thead>\n",
       "    <tr style=\"text-align: right;\">\n",
       "      <th></th>\n",
       "      <th>Product</th>\n",
       "      <th>Rating</th>\n",
       "      <th>MRP</th>\n",
       "      <th>Feature</th>\n",
       "      <th>Brand</th>\n",
       "      <th>Operating_System</th>\n",
       "      <th>RAM</th>\n",
       "      <th>Display_inchs</th>\n",
       "      <th>RAM_Type</th>\n",
       "      <th>Processor</th>\n",
       "      <th>Disc Size</th>\n",
       "      <th>Disc Type</th>\n",
       "    </tr>\n",
       "  </thead>\n",
       "  <tbody>\n",
       "    <tr>\n",
       "      <th>0</th>\n",
       "      <td>Lenovo IdeaPad 3 Core i3 11th Gen - (8 GB/256 ...</td>\n",
       "      <td>4.2</td>\n",
       "      <td>36990</td>\n",
       "      <td>Intel Core i3 Processor (11th Gen)8 GB DDR4 RA...</td>\n",
       "      <td>Lenovo</td>\n",
       "      <td>Windows 11</td>\n",
       "      <td>8 GB</td>\n",
       "      <td>14</td>\n",
       "      <td>DDR4</td>\n",
       "      <td>Intel</td>\n",
       "      <td>256GB</td>\n",
       "      <td>SSD</td>\n",
       "    </tr>\n",
       "    <tr>\n",
       "      <th>1</th>\n",
       "      <td>Lenovo IdeaPad 3 Core i3 11th Gen - (8 GB/512 ...</td>\n",
       "      <td>4.2</td>\n",
       "      <td>39990</td>\n",
       "      <td>Intel Core i3 Processor (11th Gen)8 GB DDR4 RA...</td>\n",
       "      <td>Lenovo</td>\n",
       "      <td>Windows 11</td>\n",
       "      <td>8 GB</td>\n",
       "      <td>15.6</td>\n",
       "      <td>DDR4</td>\n",
       "      <td>Intel</td>\n",
       "      <td>512GB</td>\n",
       "      <td>SSD</td>\n",
       "    </tr>\n",
       "    <tr>\n",
       "      <th>2</th>\n",
       "      <td>ASUS VivoBook 15 (2022) Core i3 10th Gen - (8 ...</td>\n",
       "      <td>4.3</td>\n",
       "      <td>32990</td>\n",
       "      <td>Intel Core i3 Processor (10th Gen)8 GB DDR4 RA...</td>\n",
       "      <td>ASUS</td>\n",
       "      <td>Windows 11</td>\n",
       "      <td>8 GB</td>\n",
       "      <td>15.6</td>\n",
       "      <td>DDR4</td>\n",
       "      <td>Intel</td>\n",
       "      <td>512GB</td>\n",
       "      <td>SSD</td>\n",
       "    </tr>\n",
       "    <tr>\n",
       "      <th>3</th>\n",
       "      <td>HP Pavilion Ryzen 5 Hexa Core AMD R5-5600H - (...</td>\n",
       "      <td>4.4</td>\n",
       "      <td>49990</td>\n",
       "      <td>AMD Ryzen 5 Hexa Core Processor8 GB DDR4 RAM64...</td>\n",
       "      <td>HP</td>\n",
       "      <td>Windows 10</td>\n",
       "      <td>8 GB</td>\n",
       "      <td>15.6</td>\n",
       "      <td>DDR4</td>\n",
       "      <td>AMD</td>\n",
       "      <td>512GB</td>\n",
       "      <td>SSD</td>\n",
       "    </tr>\n",
       "    <tr>\n",
       "      <th>4</th>\n",
       "      <td>ASUS TUF Gaming F15 Core i5 10th Gen - (8 GB/5...</td>\n",
       "      <td>4.4</td>\n",
       "      <td>49990</td>\n",
       "      <td>Intel Core i5 Processor (10th Gen)8 GB DDR4 RA...</td>\n",
       "      <td>ASUS</td>\n",
       "      <td>Windows 11</td>\n",
       "      <td>8 GB</td>\n",
       "      <td>15.6</td>\n",
       "      <td>DDR4</td>\n",
       "      <td>Intel</td>\n",
       "      <td>512GB</td>\n",
       "      <td>SSD</td>\n",
       "    </tr>\n",
       "  </tbody>\n",
       "</table>\n",
       "</div>"
      ],
      "text/plain": [
       "                                             Product  Rating    MRP  \\\n",
       "0  Lenovo IdeaPad 3 Core i3 11th Gen - (8 GB/256 ...     4.2  36990   \n",
       "1  Lenovo IdeaPad 3 Core i3 11th Gen - (8 GB/512 ...     4.2  39990   \n",
       "2  ASUS VivoBook 15 (2022) Core i3 10th Gen - (8 ...     4.3  32990   \n",
       "3  HP Pavilion Ryzen 5 Hexa Core AMD R5-5600H - (...     4.4  49990   \n",
       "4  ASUS TUF Gaming F15 Core i5 10th Gen - (8 GB/5...     4.4  49990   \n",
       "\n",
       "                                             Feature   Brand Operating_System  \\\n",
       "0  Intel Core i3 Processor (11th Gen)8 GB DDR4 RA...  Lenovo       Windows 11   \n",
       "1  Intel Core i3 Processor (11th Gen)8 GB DDR4 RA...  Lenovo       Windows 11   \n",
       "2  Intel Core i3 Processor (10th Gen)8 GB DDR4 RA...    ASUS       Windows 11   \n",
       "3  AMD Ryzen 5 Hexa Core Processor8 GB DDR4 RAM64...      HP       Windows 10   \n",
       "4  Intel Core i5 Processor (10th Gen)8 GB DDR4 RA...    ASUS       Windows 11   \n",
       "\n",
       "    RAM Display_inchs RAM_Type Processor Disc Size Disc Type  \n",
       "0  8 GB            14     DDR4     Intel     256GB       SSD  \n",
       "1  8 GB          15.6     DDR4     Intel     512GB       SSD  \n",
       "2  8 GB          15.6     DDR4     Intel     512GB       SSD  \n",
       "3  8 GB          15.6     DDR4       AMD     512GB       SSD  \n",
       "4  8 GB          15.6     DDR4     Intel     512GB       SSD  "
      ]
     },
     "execution_count": 38,
     "metadata": {},
     "output_type": "execute_result"
    }
   ],
   "source": [
    "df[['Disc Size','Disc Type']]=df['Storage'].str.split(' ', expand=True)\n",
    "\n",
    "df.drop(['Storage'], axis=1, inplace=True)\n",
    "df.head()"
   ]
  },
  {
   "cell_type": "code",
   "execution_count": 39,
   "id": "790dd800",
   "metadata": {},
   "outputs": [
    {
     "data": {
      "text/plain": [
       "512GB    375\n",
       "1TB      223\n",
       "256GB     99\n",
       "          10\n",
       "2TB        7\n",
       "128GB      6\n",
       "Name: Disc Size, dtype: int64"
      ]
     },
     "execution_count": 39,
     "metadata": {},
     "output_type": "execute_result"
    }
   ],
   "source": [
    "df['Disc Size'].value_counts()"
   ]
  },
  {
   "cell_type": "code",
   "execution_count": 40,
   "id": "6240975e",
   "metadata": {},
   "outputs": [
    {
     "data": {
      "text/html": [
       "<div>\n",
       "<style scoped>\n",
       "    .dataframe tbody tr th:only-of-type {\n",
       "        vertical-align: middle;\n",
       "    }\n",
       "\n",
       "    .dataframe tbody tr th {\n",
       "        vertical-align: top;\n",
       "    }\n",
       "\n",
       "    .dataframe thead th {\n",
       "        text-align: right;\n",
       "    }\n",
       "</style>\n",
       "<table border=\"1\" class=\"dataframe\">\n",
       "  <thead>\n",
       "    <tr style=\"text-align: right;\">\n",
       "      <th></th>\n",
       "      <th>Product</th>\n",
       "      <th>Rating</th>\n",
       "      <th>MRP</th>\n",
       "      <th>Feature</th>\n",
       "      <th>Brand</th>\n",
       "      <th>Operating_System</th>\n",
       "      <th>RAM</th>\n",
       "      <th>Display_inchs</th>\n",
       "      <th>RAM_Type</th>\n",
       "      <th>Processor</th>\n",
       "      <th>Disc Size</th>\n",
       "      <th>Disc Type</th>\n",
       "    </tr>\n",
       "  </thead>\n",
       "  <tbody>\n",
       "    <tr>\n",
       "      <th>83</th>\n",
       "      <td>SAMSUNG Galaxy Book Go Snapdragon 7c Gen 2 - (...</td>\n",
       "      <td>4.4</td>\n",
       "      <td>32990</td>\n",
       "      <td>Qualcomm Snapdragon 7c Gen 2 Processor4 GB LPD...</td>\n",
       "      <td>SAMSUNG</td>\n",
       "      <td>Windows 11</td>\n",
       "      <td>4 GB</td>\n",
       "      <td>14</td>\n",
       "      <td>LPDDR4X</td>\n",
       "      <td>Qualcomm</td>\n",
       "      <td></td>\n",
       "      <td>None</td>\n",
       "    </tr>\n",
       "    <tr>\n",
       "      <th>89</th>\n",
       "      <td>Lenovo IdeaPad 3 CB Celeron Dual Core - (4 GB/...</td>\n",
       "      <td>NaN</td>\n",
       "      <td>19490</td>\n",
       "      <td>Intel Celeron Dual Core Processor4 GB DDR4 RAM...</td>\n",
       "      <td>Lenovo</td>\n",
       "      <td>Chrome</td>\n",
       "      <td>4 GB</td>\n",
       "      <td>14</td>\n",
       "      <td>DDR4</td>\n",
       "      <td>Intel</td>\n",
       "      <td></td>\n",
       "      <td>None</td>\n",
       "    </tr>\n",
       "    <tr>\n",
       "      <th>96</th>\n",
       "      <td>Lenovo IdeaPad 3 CB Celeron Dual Core - (4 GB/...</td>\n",
       "      <td>NaN</td>\n",
       "      <td>19490</td>\n",
       "      <td>Intel Celeron Dual Core Processor4 GB DDR4 RAM...</td>\n",
       "      <td>Lenovo</td>\n",
       "      <td>Chrome</td>\n",
       "      <td>4 GB</td>\n",
       "      <td>14</td>\n",
       "      <td>DDR4</td>\n",
       "      <td>Intel</td>\n",
       "      <td></td>\n",
       "      <td>None</td>\n",
       "    </tr>\n",
       "    <tr>\n",
       "      <th>345</th>\n",
       "      <td>ASUS Chromebook Flip Touch Celeron Dual Core -...</td>\n",
       "      <td>4.0</td>\n",
       "      <td>14990</td>\n",
       "      <td>Intel Celeron Dual Core Processor4 GB LPDDR4 R...</td>\n",
       "      <td>ASUS</td>\n",
       "      <td>Chrome</td>\n",
       "      <td>4 GB</td>\n",
       "      <td>11.6</td>\n",
       "      <td>LPDDR4</td>\n",
       "      <td>Intel</td>\n",
       "      <td></td>\n",
       "      <td>None</td>\n",
       "    </tr>\n",
       "    <tr>\n",
       "      <th>509</th>\n",
       "      <td>ASUS Chromebook Flip Touch Celeron Dual Core -...</td>\n",
       "      <td>4.0</td>\n",
       "      <td>24390</td>\n",
       "      <td>Intel Celeron Dual Core Processor4 GB LPDDR4 R...</td>\n",
       "      <td>ASUS</td>\n",
       "      <td>Chrome</td>\n",
       "      <td>4 GB</td>\n",
       "      <td>15.6</td>\n",
       "      <td>LPDDR4</td>\n",
       "      <td>Intel</td>\n",
       "      <td></td>\n",
       "      <td>None</td>\n",
       "    </tr>\n",
       "    <tr>\n",
       "      <th>544</th>\n",
       "      <td>ASUS EeeBook 12 Celeron Dual Core - (4 GB/64 G...</td>\n",
       "      <td>4.5</td>\n",
       "      <td>21990</td>\n",
       "      <td>Intel Celeron Dual Core Processor4 GB DDR4 RAM...</td>\n",
       "      <td>ASUS</td>\n",
       "      <td>Windows 11</td>\n",
       "      <td>4 GB</td>\n",
       "      <td>11.6</td>\n",
       "      <td>DDR4</td>\n",
       "      <td>Intel</td>\n",
       "      <td></td>\n",
       "      <td>None</td>\n",
       "    </tr>\n",
       "    <tr>\n",
       "      <th>559</th>\n",
       "      <td>ASUS EeeBook 12 Celeron Dual Core - (4 GB/64 G...</td>\n",
       "      <td>4.0</td>\n",
       "      <td>19990</td>\n",
       "      <td>Intel Celeron Dual Core Processor4 GB DDR4 RAM...</td>\n",
       "      <td>ASUS</td>\n",
       "      <td>Windows 11</td>\n",
       "      <td>4 GB</td>\n",
       "      <td>11.6</td>\n",
       "      <td>DDR4</td>\n",
       "      <td>Intel</td>\n",
       "      <td></td>\n",
       "      <td>None</td>\n",
       "    </tr>\n",
       "    <tr>\n",
       "      <th>632</th>\n",
       "      <td>Lenovo IdeaPad Flex 3 Chromebook Celeron Dual ...</td>\n",
       "      <td>3.6</td>\n",
       "      <td>28490</td>\n",
       "      <td>Intel Celeron Dual Core Processor4 GB LPDDR4X ...</td>\n",
       "      <td>Lenovo</td>\n",
       "      <td>Chrome</td>\n",
       "      <td>4 GB</td>\n",
       "      <td>11.6</td>\n",
       "      <td>LPDDR4X</td>\n",
       "      <td>Intel</td>\n",
       "      <td></td>\n",
       "      <td>None</td>\n",
       "    </tr>\n",
       "    <tr>\n",
       "      <th>695</th>\n",
       "      <td>ASUS Chromebook Celeron Dual Core - (4 GB/64 G...</td>\n",
       "      <td>4.1</td>\n",
       "      <td>25990</td>\n",
       "      <td>Intel Celeron Dual Core Processor4 GB LPDDR4 R...</td>\n",
       "      <td>ASUS</td>\n",
       "      <td>Chrome</td>\n",
       "      <td>4 GB</td>\n",
       "      <td>14</td>\n",
       "      <td>LPDDR4</td>\n",
       "      <td>Intel</td>\n",
       "      <td></td>\n",
       "      <td>None</td>\n",
       "    </tr>\n",
       "    <tr>\n",
       "      <th>715</th>\n",
       "      <td>ASUS Chromebook Flip Touch Celeron Dual Core -...</td>\n",
       "      <td>4.0</td>\n",
       "      <td>23490</td>\n",
       "      <td>Intel Celeron Dual Core Processor4 GB LPDDR4 R...</td>\n",
       "      <td>ASUS</td>\n",
       "      <td>Chrome</td>\n",
       "      <td>4 GB</td>\n",
       "      <td>11.6</td>\n",
       "      <td>LPDDR4</td>\n",
       "      <td>Intel</td>\n",
       "      <td></td>\n",
       "      <td>None</td>\n",
       "    </tr>\n",
       "  </tbody>\n",
       "</table>\n",
       "</div>"
      ],
      "text/plain": [
       "                                               Product  Rating    MRP  \\\n",
       "83   SAMSUNG Galaxy Book Go Snapdragon 7c Gen 2 - (...     4.4  32990   \n",
       "89   Lenovo IdeaPad 3 CB Celeron Dual Core - (4 GB/...     NaN  19490   \n",
       "96   Lenovo IdeaPad 3 CB Celeron Dual Core - (4 GB/...     NaN  19490   \n",
       "345  ASUS Chromebook Flip Touch Celeron Dual Core -...     4.0  14990   \n",
       "509  ASUS Chromebook Flip Touch Celeron Dual Core -...     4.0  24390   \n",
       "544  ASUS EeeBook 12 Celeron Dual Core - (4 GB/64 G...     4.5  21990   \n",
       "559  ASUS EeeBook 12 Celeron Dual Core - (4 GB/64 G...     4.0  19990   \n",
       "632  Lenovo IdeaPad Flex 3 Chromebook Celeron Dual ...     3.6  28490   \n",
       "695  ASUS Chromebook Celeron Dual Core - (4 GB/64 G...     4.1  25990   \n",
       "715  ASUS Chromebook Flip Touch Celeron Dual Core -...     4.0  23490   \n",
       "\n",
       "                                               Feature    Brand  \\\n",
       "83   Qualcomm Snapdragon 7c Gen 2 Processor4 GB LPD...  SAMSUNG   \n",
       "89   Intel Celeron Dual Core Processor4 GB DDR4 RAM...   Lenovo   \n",
       "96   Intel Celeron Dual Core Processor4 GB DDR4 RAM...   Lenovo   \n",
       "345  Intel Celeron Dual Core Processor4 GB LPDDR4 R...     ASUS   \n",
       "509  Intel Celeron Dual Core Processor4 GB LPDDR4 R...     ASUS   \n",
       "544  Intel Celeron Dual Core Processor4 GB DDR4 RAM...     ASUS   \n",
       "559  Intel Celeron Dual Core Processor4 GB DDR4 RAM...     ASUS   \n",
       "632  Intel Celeron Dual Core Processor4 GB LPDDR4X ...   Lenovo   \n",
       "695  Intel Celeron Dual Core Processor4 GB LPDDR4 R...     ASUS   \n",
       "715  Intel Celeron Dual Core Processor4 GB LPDDR4 R...     ASUS   \n",
       "\n",
       "    Operating_System   RAM Display_inchs RAM_Type Processor Disc Size  \\\n",
       "83        Windows 11  4 GB            14  LPDDR4X  Qualcomm             \n",
       "89            Chrome  4 GB            14     DDR4     Intel             \n",
       "96            Chrome  4 GB            14     DDR4     Intel             \n",
       "345           Chrome  4 GB          11.6   LPDDR4     Intel             \n",
       "509           Chrome  4 GB          15.6   LPDDR4     Intel             \n",
       "544       Windows 11  4 GB          11.6     DDR4     Intel             \n",
       "559       Windows 11  4 GB          11.6     DDR4     Intel             \n",
       "632           Chrome  4 GB          11.6  LPDDR4X     Intel             \n",
       "695           Chrome  4 GB            14   LPDDR4     Intel             \n",
       "715           Chrome  4 GB          11.6   LPDDR4     Intel             \n",
       "\n",
       "    Disc Type  \n",
       "83       None  \n",
       "89       None  \n",
       "96       None  \n",
       "345      None  \n",
       "509      None  \n",
       "544      None  \n",
       "559      None  \n",
       "632      None  \n",
       "695      None  \n",
       "715      None  "
      ]
     },
     "execution_count": 40,
     "metadata": {},
     "output_type": "execute_result"
    }
   ],
   "source": [
    "df[df['Disc Size']=='']"
   ]
  },
  {
   "cell_type": "code",
   "execution_count": 41,
   "id": "7aed4501",
   "metadata": {},
   "outputs": [
    {
     "data": {
      "text/plain": [
       "Index(['Product', 'Rating', 'MRP', 'Feature', 'Brand', 'Operating_System',\n",
       "       'RAM', 'Display_inchs', 'RAM_Type', 'Processor', 'Disc Size',\n",
       "       'Disc Type'],\n",
       "      dtype='object')"
      ]
     },
     "execution_count": 41,
     "metadata": {},
     "output_type": "execute_result"
    }
   ],
   "source": [
    "df.columns"
   ]
  },
  {
   "cell_type": "code",
   "execution_count": 42,
   "id": "481135f2",
   "metadata": {},
   "outputs": [],
   "source": [
    "df.iloc[83,-2]='128GB'\n",
    "df.iloc[89,-2]='64GB'\n",
    "df.iloc[96,-2]='64GB'\n",
    "df.iloc[345,-2]='32GB'\n",
    "df.iloc[509,-2]='64GB'\n",
    "df.iloc[544,-2]='64GB'\n",
    "df.iloc[559,-2]='64GB'\n",
    "df.iloc[632,-2]='128GB'\n",
    "df.iloc[695,-2]='64GB'\n",
    "df.iloc[715,-2]='64GB'"
   ]
  },
  {
   "cell_type": "code",
   "execution_count": 43,
   "id": "882200eb",
   "metadata": {},
   "outputs": [
    {
     "data": {
      "text/plain": [
       "512GB    375\n",
       "1TB      223\n",
       "256GB     99\n",
       "128GB      8\n",
       "64GB       7\n",
       "2TB        7\n",
       "32GB       1\n",
       "Name: Disc Size, dtype: int64"
      ]
     },
     "execution_count": 43,
     "metadata": {},
     "output_type": "execute_result"
    }
   ],
   "source": [
    "df['Disc Size'].value_counts()"
   ]
  },
  {
   "cell_type": "code",
   "execution_count": 44,
   "id": "0747cc03",
   "metadata": {},
   "outputs": [
    {
     "data": {
      "text/plain": [
       "SSD    662\n",
       "HDD     48\n",
       "Name: Disc Type, dtype: int64"
      ]
     },
     "execution_count": 44,
     "metadata": {},
     "output_type": "execute_result"
    }
   ],
   "source": [
    "df['Disc Type'].value_counts()"
   ]
  },
  {
   "cell_type": "code",
   "execution_count": 45,
   "id": "4ad40b0a",
   "metadata": {},
   "outputs": [],
   "source": [
    "df.drop(['Product','Feature'],axis=1,inplace=True)"
   ]
  },
  {
   "cell_type": "code",
   "execution_count": 46,
   "id": "3eca781b",
   "metadata": {},
   "outputs": [
    {
     "data": {
      "text/html": [
       "<div>\n",
       "<style scoped>\n",
       "    .dataframe tbody tr th:only-of-type {\n",
       "        vertical-align: middle;\n",
       "    }\n",
       "\n",
       "    .dataframe tbody tr th {\n",
       "        vertical-align: top;\n",
       "    }\n",
       "\n",
       "    .dataframe thead th {\n",
       "        text-align: right;\n",
       "    }\n",
       "</style>\n",
       "<table border=\"1\" class=\"dataframe\">\n",
       "  <thead>\n",
       "    <tr style=\"text-align: right;\">\n",
       "      <th></th>\n",
       "      <th>Rating</th>\n",
       "      <th>MRP</th>\n",
       "      <th>Brand</th>\n",
       "      <th>Operating_System</th>\n",
       "      <th>RAM</th>\n",
       "      <th>Display_inchs</th>\n",
       "      <th>RAM_Type</th>\n",
       "      <th>Processor</th>\n",
       "      <th>Disc Size</th>\n",
       "      <th>Disc Type</th>\n",
       "    </tr>\n",
       "  </thead>\n",
       "  <tbody>\n",
       "    <tr>\n",
       "      <th>0</th>\n",
       "      <td>4.2</td>\n",
       "      <td>36990</td>\n",
       "      <td>Lenovo</td>\n",
       "      <td>Windows 11</td>\n",
       "      <td>8 GB</td>\n",
       "      <td>14</td>\n",
       "      <td>DDR4</td>\n",
       "      <td>Intel</td>\n",
       "      <td>256GB</td>\n",
       "      <td>SSD</td>\n",
       "    </tr>\n",
       "    <tr>\n",
       "      <th>1</th>\n",
       "      <td>4.2</td>\n",
       "      <td>39990</td>\n",
       "      <td>Lenovo</td>\n",
       "      <td>Windows 11</td>\n",
       "      <td>8 GB</td>\n",
       "      <td>15.6</td>\n",
       "      <td>DDR4</td>\n",
       "      <td>Intel</td>\n",
       "      <td>512GB</td>\n",
       "      <td>SSD</td>\n",
       "    </tr>\n",
       "    <tr>\n",
       "      <th>2</th>\n",
       "      <td>4.3</td>\n",
       "      <td>32990</td>\n",
       "      <td>ASUS</td>\n",
       "      <td>Windows 11</td>\n",
       "      <td>8 GB</td>\n",
       "      <td>15.6</td>\n",
       "      <td>DDR4</td>\n",
       "      <td>Intel</td>\n",
       "      <td>512GB</td>\n",
       "      <td>SSD</td>\n",
       "    </tr>\n",
       "    <tr>\n",
       "      <th>3</th>\n",
       "      <td>4.4</td>\n",
       "      <td>49990</td>\n",
       "      <td>HP</td>\n",
       "      <td>Windows 10</td>\n",
       "      <td>8 GB</td>\n",
       "      <td>15.6</td>\n",
       "      <td>DDR4</td>\n",
       "      <td>AMD</td>\n",
       "      <td>512GB</td>\n",
       "      <td>SSD</td>\n",
       "    </tr>\n",
       "    <tr>\n",
       "      <th>4</th>\n",
       "      <td>4.4</td>\n",
       "      <td>49990</td>\n",
       "      <td>ASUS</td>\n",
       "      <td>Windows 11</td>\n",
       "      <td>8 GB</td>\n",
       "      <td>15.6</td>\n",
       "      <td>DDR4</td>\n",
       "      <td>Intel</td>\n",
       "      <td>512GB</td>\n",
       "      <td>SSD</td>\n",
       "    </tr>\n",
       "  </tbody>\n",
       "</table>\n",
       "</div>"
      ],
      "text/plain": [
       "   Rating    MRP   Brand Operating_System   RAM Display_inchs RAM_Type  \\\n",
       "0     4.2  36990  Lenovo       Windows 11  8 GB            14     DDR4   \n",
       "1     4.2  39990  Lenovo       Windows 11  8 GB          15.6     DDR4   \n",
       "2     4.3  32990    ASUS       Windows 11  8 GB          15.6     DDR4   \n",
       "3     4.4  49990      HP       Windows 10  8 GB          15.6     DDR4   \n",
       "4     4.4  49990    ASUS       Windows 11  8 GB          15.6     DDR4   \n",
       "\n",
       "  Processor Disc Size Disc Type  \n",
       "0     Intel     256GB       SSD  \n",
       "1     Intel     512GB       SSD  \n",
       "2     Intel     512GB       SSD  \n",
       "3       AMD     512GB       SSD  \n",
       "4     Intel     512GB       SSD  "
      ]
     },
     "execution_count": 46,
     "metadata": {},
     "output_type": "execute_result"
    }
   ],
   "source": [
    "df.head()"
   ]
  },
  {
   "cell_type": "code",
   "execution_count": 47,
   "id": "641eff63",
   "metadata": {},
   "outputs": [
    {
     "data": {
      "text/plain": [
       "Rating              139\n",
       "MRP                   0\n",
       "Brand                 0\n",
       "Operating_System      0\n",
       "RAM                   0\n",
       "Display_inchs         2\n",
       "RAM_Type              0\n",
       "Processor             0\n",
       "Disc Size             0\n",
       "Disc Type            10\n",
       "dtype: int64"
      ]
     },
     "execution_count": 47,
     "metadata": {},
     "output_type": "execute_result"
    }
   ],
   "source": [
    "df.isnull().sum()"
   ]
  },
  {
   "cell_type": "code",
   "execution_count": 48,
   "id": "c0f80a16",
   "metadata": {},
   "outputs": [
    {
     "data": {
      "text/plain": [
       "0"
      ]
     },
     "execution_count": 48,
     "metadata": {},
     "output_type": "execute_result"
    }
   ],
   "source": [
    "df['Disc Type']=df['Disc Type'].fillna(df['Disc Type'].mode()[0])\n",
    "df['Disc Type'].isna().sum()"
   ]
  },
  {
   "cell_type": "code",
   "execution_count": 49,
   "id": "8599a6bd",
   "metadata": {},
   "outputs": [
    {
     "data": {
      "text/plain": [
       "0"
      ]
     },
     "execution_count": 49,
     "metadata": {},
     "output_type": "execute_result"
    }
   ],
   "source": [
    "df['Display_inchs'].fillna(df['Display_inchs'].median(), inplace=True)\n",
    "df.Display_inchs.isna().sum()"
   ]
  },
  {
   "cell_type": "code",
   "execution_count": 50,
   "id": "42ba9525",
   "metadata": {},
   "outputs": [
    {
     "data": {
      "text/plain": [
       "0"
      ]
     },
     "execution_count": 50,
     "metadata": {},
     "output_type": "execute_result"
    }
   ],
   "source": [
    "df['Rating'].fillna(df['Rating'].median(), inplace=True)\n",
    "df.Rating.isna().sum()"
   ]
  },
  {
   "cell_type": "code",
   "execution_count": 51,
   "id": "22b0ff2a",
   "metadata": {},
   "outputs": [
    {
     "data": {
      "text/plain": [
       "Rating              0\n",
       "MRP                 0\n",
       "Brand               0\n",
       "Operating_System    0\n",
       "RAM                 0\n",
       "Display_inchs       0\n",
       "RAM_Type            0\n",
       "Processor           0\n",
       "Disc Size           0\n",
       "Disc Type           0\n",
       "dtype: int64"
      ]
     },
     "execution_count": 51,
     "metadata": {},
     "output_type": "execute_result"
    }
   ],
   "source": [
    "df.isnull().sum()"
   ]
  },
  {
   "cell_type": "markdown",
   "id": "0796c170",
   "metadata": {},
   "source": [
    "### Detection of Duplicate values"
   ]
  },
  {
   "cell_type": "code",
   "execution_count": 52,
   "id": "8420597a",
   "metadata": {},
   "outputs": [
    {
     "data": {
      "text/plain": [
       "306"
      ]
     },
     "execution_count": 52,
     "metadata": {},
     "output_type": "execute_result"
    }
   ],
   "source": [
    "df.duplicated().sum()"
   ]
  },
  {
   "cell_type": "markdown",
   "id": "c2099f47",
   "metadata": {},
   "source": [
    "### Removal of duplicate values"
   ]
  },
  {
   "cell_type": "code",
   "execution_count": 53,
   "id": "715f0524",
   "metadata": {},
   "outputs": [
    {
     "data": {
      "text/plain": [
       "0"
      ]
     },
     "execution_count": 53,
     "metadata": {},
     "output_type": "execute_result"
    }
   ],
   "source": [
    "df.drop_duplicates(inplace=True)\n",
    "df.duplicated().sum()"
   ]
  },
  {
   "cell_type": "code",
   "execution_count": 54,
   "id": "a8938713",
   "metadata": {},
   "outputs": [],
   "source": [
    "df.reset_index(drop=True,inplace=True)"
   ]
  },
  {
   "cell_type": "markdown",
   "id": "5ea3146d",
   "metadata": {},
   "source": [
    "### Cleaned Data"
   ]
  },
  {
   "cell_type": "code",
   "execution_count": 55,
   "id": "47328d44",
   "metadata": {},
   "outputs": [
    {
     "data": {
      "text/html": [
       "<div>\n",
       "<style scoped>\n",
       "    .dataframe tbody tr th:only-of-type {\n",
       "        vertical-align: middle;\n",
       "    }\n",
       "\n",
       "    .dataframe tbody tr th {\n",
       "        vertical-align: top;\n",
       "    }\n",
       "\n",
       "    .dataframe thead th {\n",
       "        text-align: right;\n",
       "    }\n",
       "</style>\n",
       "<table border=\"1\" class=\"dataframe\">\n",
       "  <thead>\n",
       "    <tr style=\"text-align: right;\">\n",
       "      <th></th>\n",
       "      <th>Rating</th>\n",
       "      <th>MRP</th>\n",
       "      <th>Brand</th>\n",
       "      <th>Operating_System</th>\n",
       "      <th>RAM</th>\n",
       "      <th>Display_inchs</th>\n",
       "      <th>RAM_Type</th>\n",
       "      <th>Processor</th>\n",
       "      <th>Disc Size</th>\n",
       "      <th>Disc Type</th>\n",
       "    </tr>\n",
       "  </thead>\n",
       "  <tbody>\n",
       "    <tr>\n",
       "      <th>0</th>\n",
       "      <td>4.2</td>\n",
       "      <td>36990</td>\n",
       "      <td>Lenovo</td>\n",
       "      <td>Windows 11</td>\n",
       "      <td>8 GB</td>\n",
       "      <td>14</td>\n",
       "      <td>DDR4</td>\n",
       "      <td>Intel</td>\n",
       "      <td>256GB</td>\n",
       "      <td>SSD</td>\n",
       "    </tr>\n",
       "    <tr>\n",
       "      <th>1</th>\n",
       "      <td>4.2</td>\n",
       "      <td>39990</td>\n",
       "      <td>Lenovo</td>\n",
       "      <td>Windows 11</td>\n",
       "      <td>8 GB</td>\n",
       "      <td>15.6</td>\n",
       "      <td>DDR4</td>\n",
       "      <td>Intel</td>\n",
       "      <td>512GB</td>\n",
       "      <td>SSD</td>\n",
       "    </tr>\n",
       "    <tr>\n",
       "      <th>2</th>\n",
       "      <td>4.3</td>\n",
       "      <td>32990</td>\n",
       "      <td>ASUS</td>\n",
       "      <td>Windows 11</td>\n",
       "      <td>8 GB</td>\n",
       "      <td>15.6</td>\n",
       "      <td>DDR4</td>\n",
       "      <td>Intel</td>\n",
       "      <td>512GB</td>\n",
       "      <td>SSD</td>\n",
       "    </tr>\n",
       "    <tr>\n",
       "      <th>3</th>\n",
       "      <td>4.4</td>\n",
       "      <td>49990</td>\n",
       "      <td>HP</td>\n",
       "      <td>Windows 10</td>\n",
       "      <td>8 GB</td>\n",
       "      <td>15.6</td>\n",
       "      <td>DDR4</td>\n",
       "      <td>AMD</td>\n",
       "      <td>512GB</td>\n",
       "      <td>SSD</td>\n",
       "    </tr>\n",
       "    <tr>\n",
       "      <th>4</th>\n",
       "      <td>4.4</td>\n",
       "      <td>49990</td>\n",
       "      <td>ASUS</td>\n",
       "      <td>Windows 11</td>\n",
       "      <td>8 GB</td>\n",
       "      <td>15.6</td>\n",
       "      <td>DDR4</td>\n",
       "      <td>Intel</td>\n",
       "      <td>512GB</td>\n",
       "      <td>SSD</td>\n",
       "    </tr>\n",
       "    <tr>\n",
       "      <th>...</th>\n",
       "      <td>...</td>\n",
       "      <td>...</td>\n",
       "      <td>...</td>\n",
       "      <td>...</td>\n",
       "      <td>...</td>\n",
       "      <td>...</td>\n",
       "      <td>...</td>\n",
       "      <td>...</td>\n",
       "      <td>...</td>\n",
       "      <td>...</td>\n",
       "    </tr>\n",
       "    <tr>\n",
       "      <th>409</th>\n",
       "      <td>4.3</td>\n",
       "      <td>76590</td>\n",
       "      <td>DELL</td>\n",
       "      <td>Windows 11</td>\n",
       "      <td>16 GB</td>\n",
       "      <td>13.3</td>\n",
       "      <td>DDR5</td>\n",
       "      <td>Intel</td>\n",
       "      <td>512GB</td>\n",
       "      <td>SSD</td>\n",
       "    </tr>\n",
       "    <tr>\n",
       "      <th>410</th>\n",
       "      <td>4.6</td>\n",
       "      <td>90000</td>\n",
       "      <td>HP</td>\n",
       "      <td>Windows 10</td>\n",
       "      <td>16 GB</td>\n",
       "      <td>15.6</td>\n",
       "      <td>DDR4</td>\n",
       "      <td>AMD</td>\n",
       "      <td>512GB</td>\n",
       "      <td>SSD</td>\n",
       "    </tr>\n",
       "    <tr>\n",
       "      <th>411</th>\n",
       "      <td>4.0</td>\n",
       "      <td>23490</td>\n",
       "      <td>ASUS</td>\n",
       "      <td>Chrome</td>\n",
       "      <td>4 GB</td>\n",
       "      <td>11.6</td>\n",
       "      <td>LPDDR4</td>\n",
       "      <td>Intel</td>\n",
       "      <td>64GB</td>\n",
       "      <td>SSD</td>\n",
       "    </tr>\n",
       "    <tr>\n",
       "      <th>412</th>\n",
       "      <td>3.0</td>\n",
       "      <td>125990</td>\n",
       "      <td>ASUS</td>\n",
       "      <td>Windows 11</td>\n",
       "      <td>16 GB</td>\n",
       "      <td>14</td>\n",
       "      <td>LPDDR5</td>\n",
       "      <td>Intel</td>\n",
       "      <td>512GB</td>\n",
       "      <td>SSD</td>\n",
       "    </tr>\n",
       "    <tr>\n",
       "      <th>413</th>\n",
       "      <td>4.2</td>\n",
       "      <td>50990</td>\n",
       "      <td>Lenovo</td>\n",
       "      <td>Windows 10</td>\n",
       "      <td>8 GB</td>\n",
       "      <td>15.6</td>\n",
       "      <td>DDR4</td>\n",
       "      <td>Intel</td>\n",
       "      <td>1TB</td>\n",
       "      <td>HDD</td>\n",
       "    </tr>\n",
       "  </tbody>\n",
       "</table>\n",
       "<p>414 rows × 10 columns</p>\n",
       "</div>"
      ],
      "text/plain": [
       "     Rating     MRP   Brand Operating_System    RAM Display_inchs RAM_Type  \\\n",
       "0       4.2   36990  Lenovo       Windows 11   8 GB            14     DDR4   \n",
       "1       4.2   39990  Lenovo       Windows 11   8 GB          15.6     DDR4   \n",
       "2       4.3   32990    ASUS       Windows 11   8 GB          15.6     DDR4   \n",
       "3       4.4   49990      HP       Windows 10   8 GB          15.6     DDR4   \n",
       "4       4.4   49990    ASUS       Windows 11   8 GB          15.6     DDR4   \n",
       "..      ...     ...     ...              ...    ...           ...      ...   \n",
       "409     4.3   76590    DELL       Windows 11  16 GB          13.3     DDR5   \n",
       "410     4.6   90000      HP       Windows 10  16 GB          15.6     DDR4   \n",
       "411     4.0   23490    ASUS           Chrome   4 GB          11.6   LPDDR4   \n",
       "412     3.0  125990    ASUS       Windows 11  16 GB            14   LPDDR5   \n",
       "413     4.2   50990  Lenovo       Windows 10   8 GB          15.6     DDR4   \n",
       "\n",
       "    Processor Disc Size Disc Type  \n",
       "0       Intel     256GB       SSD  \n",
       "1       Intel     512GB       SSD  \n",
       "2       Intel     512GB       SSD  \n",
       "3         AMD     512GB       SSD  \n",
       "4       Intel     512GB       SSD  \n",
       "..        ...       ...       ...  \n",
       "409     Intel     512GB       SSD  \n",
       "410       AMD     512GB       SSD  \n",
       "411     Intel      64GB       SSD  \n",
       "412     Intel     512GB       SSD  \n",
       "413     Intel       1TB       HDD  \n",
       "\n",
       "[414 rows x 10 columns]"
      ]
     },
     "execution_count": 55,
     "metadata": {},
     "output_type": "execute_result"
    }
   ],
   "source": [
    "df"
   ]
  },
  {
   "cell_type": "markdown",
   "id": "8845ddfd",
   "metadata": {},
   "source": [
    "### convert into CSV file"
   ]
  },
  {
   "cell_type": "code",
   "execution_count": 56,
   "id": "f042e517",
   "metadata": {},
   "outputs": [],
   "source": [
    "df.to_csv('Tesla_Laptop.csv',index=False)"
   ]
  },
  {
   "cell_type": "code",
   "execution_count": 57,
   "id": "d4a3ab2b",
   "metadata": {},
   "outputs": [
    {
     "data": {
      "text/html": [
       "<div>\n",
       "<style scoped>\n",
       "    .dataframe tbody tr th:only-of-type {\n",
       "        vertical-align: middle;\n",
       "    }\n",
       "\n",
       "    .dataframe tbody tr th {\n",
       "        vertical-align: top;\n",
       "    }\n",
       "\n",
       "    .dataframe thead th {\n",
       "        text-align: right;\n",
       "    }\n",
       "</style>\n",
       "<table border=\"1\" class=\"dataframe\">\n",
       "  <thead>\n",
       "    <tr style=\"text-align: right;\">\n",
       "      <th></th>\n",
       "      <th>Rating</th>\n",
       "      <th>MRP</th>\n",
       "      <th>Brand</th>\n",
       "      <th>Operating_System</th>\n",
       "      <th>RAM</th>\n",
       "      <th>Display_inchs</th>\n",
       "      <th>RAM_Type</th>\n",
       "      <th>Processor</th>\n",
       "      <th>Disc Size</th>\n",
       "      <th>Disc Type</th>\n",
       "    </tr>\n",
       "  </thead>\n",
       "  <tbody>\n",
       "    <tr>\n",
       "      <th>0</th>\n",
       "      <td>4.2</td>\n",
       "      <td>36990</td>\n",
       "      <td>Lenovo</td>\n",
       "      <td>Windows 11</td>\n",
       "      <td>8 GB</td>\n",
       "      <td>14</td>\n",
       "      <td>DDR4</td>\n",
       "      <td>Intel</td>\n",
       "      <td>256GB</td>\n",
       "      <td>SSD</td>\n",
       "    </tr>\n",
       "    <tr>\n",
       "      <th>1</th>\n",
       "      <td>4.2</td>\n",
       "      <td>39990</td>\n",
       "      <td>Lenovo</td>\n",
       "      <td>Windows 11</td>\n",
       "      <td>8 GB</td>\n",
       "      <td>15.6</td>\n",
       "      <td>DDR4</td>\n",
       "      <td>Intel</td>\n",
       "      <td>512GB</td>\n",
       "      <td>SSD</td>\n",
       "    </tr>\n",
       "    <tr>\n",
       "      <th>2</th>\n",
       "      <td>4.3</td>\n",
       "      <td>32990</td>\n",
       "      <td>ASUS</td>\n",
       "      <td>Windows 11</td>\n",
       "      <td>8 GB</td>\n",
       "      <td>15.6</td>\n",
       "      <td>DDR4</td>\n",
       "      <td>Intel</td>\n",
       "      <td>512GB</td>\n",
       "      <td>SSD</td>\n",
       "    </tr>\n",
       "    <tr>\n",
       "      <th>3</th>\n",
       "      <td>4.4</td>\n",
       "      <td>49990</td>\n",
       "      <td>HP</td>\n",
       "      <td>Windows 10</td>\n",
       "      <td>8 GB</td>\n",
       "      <td>15.6</td>\n",
       "      <td>DDR4</td>\n",
       "      <td>AMD</td>\n",
       "      <td>512GB</td>\n",
       "      <td>SSD</td>\n",
       "    </tr>\n",
       "    <tr>\n",
       "      <th>4</th>\n",
       "      <td>4.4</td>\n",
       "      <td>49990</td>\n",
       "      <td>ASUS</td>\n",
       "      <td>Windows 11</td>\n",
       "      <td>8 GB</td>\n",
       "      <td>15.6</td>\n",
       "      <td>DDR4</td>\n",
       "      <td>Intel</td>\n",
       "      <td>512GB</td>\n",
       "      <td>SSD</td>\n",
       "    </tr>\n",
       "    <tr>\n",
       "      <th>...</th>\n",
       "      <td>...</td>\n",
       "      <td>...</td>\n",
       "      <td>...</td>\n",
       "      <td>...</td>\n",
       "      <td>...</td>\n",
       "      <td>...</td>\n",
       "      <td>...</td>\n",
       "      <td>...</td>\n",
       "      <td>...</td>\n",
       "      <td>...</td>\n",
       "    </tr>\n",
       "    <tr>\n",
       "      <th>409</th>\n",
       "      <td>4.3</td>\n",
       "      <td>76590</td>\n",
       "      <td>DELL</td>\n",
       "      <td>Windows 11</td>\n",
       "      <td>16 GB</td>\n",
       "      <td>13.3</td>\n",
       "      <td>DDR5</td>\n",
       "      <td>Intel</td>\n",
       "      <td>512GB</td>\n",
       "      <td>SSD</td>\n",
       "    </tr>\n",
       "    <tr>\n",
       "      <th>410</th>\n",
       "      <td>4.6</td>\n",
       "      <td>90000</td>\n",
       "      <td>HP</td>\n",
       "      <td>Windows 10</td>\n",
       "      <td>16 GB</td>\n",
       "      <td>15.6</td>\n",
       "      <td>DDR4</td>\n",
       "      <td>AMD</td>\n",
       "      <td>512GB</td>\n",
       "      <td>SSD</td>\n",
       "    </tr>\n",
       "    <tr>\n",
       "      <th>411</th>\n",
       "      <td>4.0</td>\n",
       "      <td>23490</td>\n",
       "      <td>ASUS</td>\n",
       "      <td>Chrome</td>\n",
       "      <td>4 GB</td>\n",
       "      <td>11.6</td>\n",
       "      <td>LPDDR4</td>\n",
       "      <td>Intel</td>\n",
       "      <td>64GB</td>\n",
       "      <td>SSD</td>\n",
       "    </tr>\n",
       "    <tr>\n",
       "      <th>412</th>\n",
       "      <td>3.0</td>\n",
       "      <td>125990</td>\n",
       "      <td>ASUS</td>\n",
       "      <td>Windows 11</td>\n",
       "      <td>16 GB</td>\n",
       "      <td>14</td>\n",
       "      <td>LPDDR5</td>\n",
       "      <td>Intel</td>\n",
       "      <td>512GB</td>\n",
       "      <td>SSD</td>\n",
       "    </tr>\n",
       "    <tr>\n",
       "      <th>413</th>\n",
       "      <td>4.2</td>\n",
       "      <td>50990</td>\n",
       "      <td>Lenovo</td>\n",
       "      <td>Windows 10</td>\n",
       "      <td>8 GB</td>\n",
       "      <td>15.6</td>\n",
       "      <td>DDR4</td>\n",
       "      <td>Intel</td>\n",
       "      <td>1TB</td>\n",
       "      <td>HDD</td>\n",
       "    </tr>\n",
       "  </tbody>\n",
       "</table>\n",
       "<p>414 rows × 10 columns</p>\n",
       "</div>"
      ],
      "text/plain": [
       "     Rating     MRP   Brand Operating_System    RAM Display_inchs RAM_Type  \\\n",
       "0       4.2   36990  Lenovo       Windows 11   8 GB            14     DDR4   \n",
       "1       4.2   39990  Lenovo       Windows 11   8 GB          15.6     DDR4   \n",
       "2       4.3   32990    ASUS       Windows 11   8 GB          15.6     DDR4   \n",
       "3       4.4   49990      HP       Windows 10   8 GB          15.6     DDR4   \n",
       "4       4.4   49990    ASUS       Windows 11   8 GB          15.6     DDR4   \n",
       "..      ...     ...     ...              ...    ...           ...      ...   \n",
       "409     4.3   76590    DELL       Windows 11  16 GB          13.3     DDR5   \n",
       "410     4.6   90000      HP       Windows 10  16 GB          15.6     DDR4   \n",
       "411     4.0   23490    ASUS           Chrome   4 GB          11.6   LPDDR4   \n",
       "412     3.0  125990    ASUS       Windows 11  16 GB            14   LPDDR5   \n",
       "413     4.2   50990  Lenovo       Windows 10   8 GB          15.6     DDR4   \n",
       "\n",
       "    Processor Disc Size Disc Type  \n",
       "0       Intel     256GB       SSD  \n",
       "1       Intel     512GB       SSD  \n",
       "2       Intel     512GB       SSD  \n",
       "3         AMD     512GB       SSD  \n",
       "4       Intel     512GB       SSD  \n",
       "..        ...       ...       ...  \n",
       "409     Intel     512GB       SSD  \n",
       "410       AMD     512GB       SSD  \n",
       "411     Intel      64GB       SSD  \n",
       "412     Intel     512GB       SSD  \n",
       "413     Intel       1TB       HDD  \n",
       "\n",
       "[414 rows x 10 columns]"
      ]
     },
     "execution_count": 57,
     "metadata": {},
     "output_type": "execute_result"
    }
   ],
   "source": [
    "df"
   ]
  },
  {
   "cell_type": "markdown",
   "id": "5f7e162d",
   "metadata": {},
   "source": [
    "## Exploratory Data Analysis\n"
   ]
  },
  {
   "cell_type": "markdown",
   "id": "c4a370e8",
   "metadata": {},
   "source": [
    "### Detection of Outliers"
   ]
  },
  {
   "cell_type": "code",
   "execution_count": 58,
   "id": "c776882f",
   "metadata": {},
   "outputs": [
    {
     "data": {
      "text/plain": [
       "count       414.000000\n",
       "mean      80873.572464\n",
       "std       61946.214367\n",
       "min       14990.000000\n",
       "25%       41672.500000\n",
       "50%       61493.500000\n",
       "75%       94990.000000\n",
       "max      434830.000000\n",
       "Name: MRP, dtype: float64"
      ]
     },
     "execution_count": 58,
     "metadata": {},
     "output_type": "execute_result"
    }
   ],
   "source": [
    "df['MRP'].describe()"
   ]
  },
  {
   "cell_type": "code",
   "execution_count": 59,
   "id": "420eb127",
   "metadata": {},
   "outputs": [
    {
     "data": {
      "text/plain": [
       "<AxesSubplot:>"
      ]
     },
     "execution_count": 59,
     "metadata": {},
     "output_type": "execute_result"
    },
    {
     "data": {
      "image/png": "[encoded data removed]",
      "text/plain": [
       "<Figure size 720x432 with 1 Axes>"
      ]
     },
     "metadata": {
      "needs_background": "light"
     },
     "output_type": "display_data"
    }
   ],
   "source": [
    "df['MRP'].plot(kind='box',figsize=(10,6))"
   ]
  },
  {
   "cell_type": "code",
   "execution_count": 60,
   "id": "6f18c349",
   "metadata": {},
   "outputs": [
    {
     "data": {
      "image/png": "[encoded data removed]",
      "text/plain": [
       "<Figure size 720x432 with 1 Axes>"
      ]
     },
     "metadata": {
      "needs_background": "light"
     },
     "output_type": "display_data"
    }
   ],
   "source": [
    "df['MRP'].plot(kind='hist',figsize=(10,6));\n"
   ]
  },
  {
   "cell_type": "markdown",
   "id": "3f7060ec",
   "metadata": {},
   "source": [
    "### Analysis of MRP column\n"
   ]
  },
  {
   "cell_type": "code",
   "execution_count": 61,
   "id": "2716b1b5",
   "metadata": {},
   "outputs": [
    {
     "name": "stdout",
     "output_type": "stream",
     "text": [
      "Maximum 434830\n",
      "Minimum 14990\n",
      "Mean 80873.57246376811\n",
      "Median 61493.5\n",
      "Standard Deviation 61946.21436655378\n"
     ]
    }
   ],
   "source": [
    "print(\"Maximum\", df['MRP'].max())\n",
    "print(\"Minimum\", df['MRP'].min())\n",
    "print(\"Mean\", df['MRP'].mean())\n",
    "print(\"Median\", df['MRP'].median())\n",
    "print(\"Standard Deviation\", df['MRP'].std())"
   ]
  },
  {
   "cell_type": "markdown",
   "id": "1a48b4fb",
   "metadata": {},
   "source": [
    "##### Observation: Difference between Mean and median is high, hence there might be Outliers in the MRP column.\n",
    "\n"
   ]
  },
  {
   "cell_type": "markdown",
   "id": "1c1a52f2",
   "metadata": {},
   "source": [
    "### Vizualization"
   ]
  },
  {
   "cell_type": "code",
   "execution_count": 62,
   "id": "c785d450",
   "metadata": {},
   "outputs": [],
   "source": [
    "import matplotlib.pyplot as plt\n",
    "import seaborn as sns"
   ]
  },
  {
   "cell_type": "code",
   "execution_count": 63,
   "id": "a6eacfa5",
   "metadata": {},
   "outputs": [
    {
     "data": {
      "text/plain": [
       "<AxesSubplot:xlabel='Brand', ylabel='MRP'>"
      ]
     },
     "execution_count": 63,
     "metadata": {},
     "output_type": "execute_result"
    },
    {
     "data": {
      "image/png": "[encoded data removed]",
      "text/plain": [
       "<Figure size 1080x504 with 1 Axes>"
      ]
     },
     "metadata": {
      "needs_background": "light"
     },
     "output_type": "display_data"
    }
   ],
   "source": [
    "plt.figure(figsize=(15, 7))\n",
    "sns.boxplot(x = df.Brand, y = df.MRP)"
   ]
  },
  {
   "cell_type": "code",
   "execution_count": 64,
   "id": "6eeaf1a0",
   "metadata": {},
   "outputs": [
    {
     "data": {
      "image/png": "[encoded data removed]",
      "text/plain": [
       "<Figure size 1080x504 with 1 Axes>"
      ]
     },
     "metadata": {
      "needs_background": "light"
     },
     "output_type": "display_data"
    }
   ],
   "source": [
    "plt.figure(figsize=(15, 7))\n",
    "sns.barplot(x='MRP', y ='Brand', data=df);"
   ]
  },
  {
   "cell_type": "markdown",
   "id": "14dc618e",
   "metadata": {},
   "source": [
    "### Observation:\n",
    "- Alienware brand laptop has more price compare to other laptops."
   ]
  },
  {
   "cell_type": "code",
   "execution_count": 65,
   "id": "441fbae6",
   "metadata": {},
   "outputs": [
    {
     "data": {
      "image/png": "[encoded data removed]",
      "text/plain": [
       "<Figure size 360x360 with 1 Axes>"
      ]
     },
     "metadata": {
      "needs_background": "light"
     },
     "output_type": "display_data"
    }
   ],
   "source": [
    "a = sns.displot(df.MRP, kind='kde')\n"
   ]
  },
  {
   "cell_type": "code",
   "execution_count": 66,
   "id": "bf24f1a3",
   "metadata": {},
   "outputs": [
    {
     "data": {
      "text/plain": [
       "<AxesSubplot:xlabel='Brand', ylabel='count'>"
      ]
     },
     "execution_count": 66,
     "metadata": {},
     "output_type": "execute_result"
    },
    {
     "data": {
      "image/png": "[encoded data removed]",
      "text/plain": [
       "<Figure size 1080x504 with 1 Axes>"
      ]
     },
     "metadata": {
      "needs_background": "light"
     },
     "output_type": "display_data"
    }
   ],
   "source": [
    "plt.figure(figsize=(15, 7))\n",
    "sns.countplot(x=df.Brand)"
   ]
  },
  {
   "cell_type": "code",
   "execution_count": 67,
   "id": "701f9014",
   "metadata": {},
   "outputs": [
    {
     "data": {
      "text/html": [
       "<div>\n",
       "<style scoped>\n",
       "    .dataframe tbody tr th:only-of-type {\n",
       "        vertical-align: middle;\n",
       "    }\n",
       "\n",
       "    .dataframe tbody tr th {\n",
       "        vertical-align: top;\n",
       "    }\n",
       "\n",
       "    .dataframe thead tr th {\n",
       "        text-align: left;\n",
       "    }\n",
       "\n",
       "    .dataframe thead tr:last-of-type th {\n",
       "        text-align: right;\n",
       "    }\n",
       "</style>\n",
       "<table border=\"1\" class=\"dataframe\">\n",
       "  <thead>\n",
       "    <tr>\n",
       "      <th></th>\n",
       "      <th colspan=\"3\" halign=\"left\">MRP</th>\n",
       "    </tr>\n",
       "    <tr>\n",
       "      <th></th>\n",
       "      <th>min</th>\n",
       "      <th>max</th>\n",
       "      <th>mean</th>\n",
       "    </tr>\n",
       "    <tr>\n",
       "      <th>Brand</th>\n",
       "      <th></th>\n",
       "      <th></th>\n",
       "      <th></th>\n",
       "    </tr>\n",
       "  </thead>\n",
       "  <tbody>\n",
       "    <tr>\n",
       "      <th>ALIENWARE</th>\n",
       "      <td>199990</td>\n",
       "      <td>345390</td>\n",
       "      <td>253390.000000</td>\n",
       "    </tr>\n",
       "    <tr>\n",
       "      <th>APPLE</th>\n",
       "      <td>88990</td>\n",
       "      <td>309490</td>\n",
       "      <td>158146.250000</td>\n",
       "    </tr>\n",
       "    <tr>\n",
       "      <th>ASUS</th>\n",
       "      <td>14990</td>\n",
       "      <td>361990</td>\n",
       "      <td>91515.196970</td>\n",
       "    </tr>\n",
       "    <tr>\n",
       "      <th>DELL</th>\n",
       "      <td>30428</td>\n",
       "      <td>434830</td>\n",
       "      <td>74613.232143</td>\n",
       "    </tr>\n",
       "    <tr>\n",
       "      <th>GIGABYTE</th>\n",
       "      <td>73990</td>\n",
       "      <td>73990</td>\n",
       "      <td>73990.000000</td>\n",
       "    </tr>\n",
       "    <tr>\n",
       "      <th>HP</th>\n",
       "      <td>25990</td>\n",
       "      <td>199990</td>\n",
       "      <td>65943.157895</td>\n",
       "    </tr>\n",
       "    <tr>\n",
       "      <th>Infinix</th>\n",
       "      <td>20990</td>\n",
       "      <td>52990</td>\n",
       "      <td>37347.142857</td>\n",
       "    </tr>\n",
       "    <tr>\n",
       "      <th>Lenovo</th>\n",
       "      <td>19490</td>\n",
       "      <td>157990</td>\n",
       "      <td>54489.147541</td>\n",
       "    </tr>\n",
       "    <tr>\n",
       "      <th>MSI</th>\n",
       "      <td>43990</td>\n",
       "      <td>389990</td>\n",
       "      <td>123411.344828</td>\n",
       "    </tr>\n",
       "    <tr>\n",
       "      <th>Nokia</th>\n",
       "      <td>50490</td>\n",
       "      <td>50490</td>\n",
       "      <td>50490.000000</td>\n",
       "    </tr>\n",
       "    <tr>\n",
       "      <th>RedmiBook</th>\n",
       "      <td>31990</td>\n",
       "      <td>39990</td>\n",
       "      <td>35990.000000</td>\n",
       "    </tr>\n",
       "    <tr>\n",
       "      <th>SAMSUNG</th>\n",
       "      <td>32990</td>\n",
       "      <td>59990</td>\n",
       "      <td>46490.000000</td>\n",
       "    </tr>\n",
       "    <tr>\n",
       "      <th>Ultimus</th>\n",
       "      <td>15990</td>\n",
       "      <td>19990</td>\n",
       "      <td>17990.000000</td>\n",
       "    </tr>\n",
       "    <tr>\n",
       "      <th>Vaio</th>\n",
       "      <td>40990</td>\n",
       "      <td>40990</td>\n",
       "      <td>40990.000000</td>\n",
       "    </tr>\n",
       "    <tr>\n",
       "      <th>acer</th>\n",
       "      <td>24990</td>\n",
       "      <td>155490</td>\n",
       "      <td>65000.764706</td>\n",
       "    </tr>\n",
       "    <tr>\n",
       "      <th>realme</th>\n",
       "      <td>46990</td>\n",
       "      <td>64999</td>\n",
       "      <td>57326.333333</td>\n",
       "    </tr>\n",
       "  </tbody>\n",
       "</table>\n",
       "</div>"
      ],
      "text/plain": [
       "              MRP                       \n",
       "              min     max           mean\n",
       "Brand                                   \n",
       "ALIENWARE  199990  345390  253390.000000\n",
       "APPLE       88990  309490  158146.250000\n",
       "ASUS        14990  361990   91515.196970\n",
       "DELL        30428  434830   74613.232143\n",
       "GIGABYTE    73990   73990   73990.000000\n",
       "HP          25990  199990   65943.157895\n",
       "Infinix     20990   52990   37347.142857\n",
       "Lenovo      19490  157990   54489.147541\n",
       "MSI         43990  389990  123411.344828\n",
       "Nokia       50490   50490   50490.000000\n",
       "RedmiBook   31990   39990   35990.000000\n",
       "SAMSUNG     32990   59990   46490.000000\n",
       "Ultimus     15990   19990   17990.000000\n",
       "Vaio        40990   40990   40990.000000\n",
       "acer        24990  155490   65000.764706\n",
       "realme      46990   64999   57326.333333"
      ]
     },
     "execution_count": 67,
     "metadata": {},
     "output_type": "execute_result"
    }
   ],
   "source": [
    "df.groupby(['Brand']).agg({'MRP' : ['min', 'max', 'mean']})"
   ]
  },
  {
   "cell_type": "code",
   "execution_count": 68,
   "id": "6be4d5f2",
   "metadata": {},
   "outputs": [
    {
     "data": {
      "text/plain": [
       "<AxesSubplot:xlabel='Brand'>"
      ]
     },
     "execution_count": 68,
     "metadata": {},
     "output_type": "execute_result"
    },
    {
     "data": {
      "image/png": "[encoded data removed]",
      "text/plain": [
       "<Figure size 1080x504 with 1 Axes>"
      ]
     },
     "metadata": {
      "needs_background": "light"
     },
     "output_type": "display_data"
    }
   ],
   "source": [
    "plt.figure(figsize=(15, 7))\n",
    "df.groupby(['Brand'])['MRP'].max().plot(kind = 'bar')"
   ]
  },
  {
   "cell_type": "code",
   "execution_count": 69,
   "id": "cc0097a8",
   "metadata": {},
   "outputs": [
    {
     "data": {
      "text/plain": [
       "<AxesSubplot:xlabel='Brand'>"
      ]
     },
     "execution_count": 69,
     "metadata": {},
     "output_type": "execute_result"
    },
    {
     "data": {
      "image/png": "[encoded data removed]",
      "text/plain": [
       "<Figure size 1080x504 with 1 Axes>"
      ]
     },
     "metadata": {
      "needs_background": "light"
     },
     "output_type": "display_data"
    }
   ],
   "source": [
    "plt.figure(figsize=(15, 7))\n",
    "df.groupby(['Brand'])['MRP'].min().plot(kind = 'bar')"
   ]
  },
  {
   "cell_type": "code",
   "execution_count": 70,
   "id": "a0b2c260",
   "metadata": {},
   "outputs": [
    {
     "data": {
      "text/plain": [
       "<AxesSubplot:xlabel='MRP', ylabel='Rating'>"
      ]
     },
     "execution_count": 70,
     "metadata": {},
     "output_type": "execute_result"
    },
    {
     "data": {
      "image/png": "[encoded data removed]",
      "text/plain": [
       "<Figure size 432x288 with 1 Axes>"
      ]
     },
     "metadata": {
      "needs_background": "light"
     },
     "output_type": "display_data"
    }
   ],
   "source": [
    "\n",
    "df.plot.scatter(x='MRP',y='Rating')"
   ]
  },
  {
   "cell_type": "code",
   "execution_count": 71,
   "id": "870002df",
   "metadata": {},
   "outputs": [
    {
     "data": {
      "text/plain": [
       "<AxesSubplot:xlabel='Operating_System', ylabel='MRP'>"
      ]
     },
     "execution_count": 71,
     "metadata": {},
     "output_type": "execute_result"
    },
    {
     "data": {
      "image/png": "[encoded data removed]",
      "text/plain": [
       "<Figure size 1080x504 with 1 Axes>"
      ]
     },
     "metadata": {
      "needs_background": "light"
     },
     "output_type": "display_data"
    }
   ],
   "source": [
    "plt.figure(figsize=(15, 7))\n",
    "sns.barplot(x='Operating_System', y ='MRP', data=df)"
   ]
  },
  {
   "cell_type": "markdown",
   "id": "8551a380",
   "metadata": {},
   "source": [
    "### Observation:\n",
    "- Mac Operating_System have more price compare to other operating systems"
   ]
  },
  {
   "cell_type": "code",
   "execution_count": 72,
   "id": "2299617a",
   "metadata": {},
   "outputs": [
    {
     "data": {
      "text/html": [
       "<div>\n",
       "<style scoped>\n",
       "    .dataframe tbody tr th:only-of-type {\n",
       "        vertical-align: middle;\n",
       "    }\n",
       "\n",
       "    .dataframe tbody tr th {\n",
       "        vertical-align: top;\n",
       "    }\n",
       "\n",
       "    .dataframe thead tr th {\n",
       "        text-align: left;\n",
       "    }\n",
       "\n",
       "    .dataframe thead tr:last-of-type th {\n",
       "        text-align: right;\n",
       "    }\n",
       "</style>\n",
       "<table border=\"1\" class=\"dataframe\">\n",
       "  <thead>\n",
       "    <tr>\n",
       "      <th></th>\n",
       "      <th colspan=\"3\" halign=\"left\">MRP</th>\n",
       "    </tr>\n",
       "    <tr>\n",
       "      <th></th>\n",
       "      <th>min</th>\n",
       "      <th>max</th>\n",
       "      <th>mean</th>\n",
       "    </tr>\n",
       "    <tr>\n",
       "      <th>Processor</th>\n",
       "      <th></th>\n",
       "      <th></th>\n",
       "      <th></th>\n",
       "    </tr>\n",
       "  </thead>\n",
       "  <tbody>\n",
       "    <tr>\n",
       "      <th>AMD</th>\n",
       "      <td>24990</td>\n",
       "      <td>361990</td>\n",
       "      <td>82406.542636</td>\n",
       "    </tr>\n",
       "    <tr>\n",
       "      <th>Apple</th>\n",
       "      <td>88990</td>\n",
       "      <td>309490</td>\n",
       "      <td>158146.250000</td>\n",
       "    </tr>\n",
       "    <tr>\n",
       "      <th>Intel</th>\n",
       "      <td>14990</td>\n",
       "      <td>434830</td>\n",
       "      <td>75701.063433</td>\n",
       "    </tr>\n",
       "    <tr>\n",
       "      <th>Qualcomm</th>\n",
       "      <td>32990</td>\n",
       "      <td>32990</td>\n",
       "      <td>32990.000000</td>\n",
       "    </tr>\n",
       "  </tbody>\n",
       "</table>\n",
       "</div>"
      ],
      "text/plain": [
       "             MRP                       \n",
       "             min     max           mean\n",
       "Processor                              \n",
       "AMD        24990  361990   82406.542636\n",
       "Apple      88990  309490  158146.250000\n",
       "Intel      14990  434830   75701.063433\n",
       "Qualcomm   32990   32990   32990.000000"
      ]
     },
     "execution_count": 72,
     "metadata": {},
     "output_type": "execute_result"
    }
   ],
   "source": [
    "df.groupby('Processor').agg({'MRP' : ['min', 'max', 'mean']})"
   ]
  },
  {
   "cell_type": "code",
   "execution_count": 73,
   "id": "fcb15429",
   "metadata": {},
   "outputs": [
    {
     "data": {
      "text/plain": [
       "<AxesSubplot:xlabel='Processor', ylabel='MRP'>"
      ]
     },
     "execution_count": 73,
     "metadata": {},
     "output_type": "execute_result"
    },
    {
     "data": {
      "image/png": "[encoded data removed]",
      "text/plain": [
       "<Figure size 1080x504 with 1 Axes>"
      ]
     },
     "metadata": {
      "needs_background": "light"
     },
     "output_type": "display_data"
    }
   ],
   "source": [
    "plt.figure(figsize=(15, 7))\n",
    "sns.barplot(x='Processor', y ='MRP', data=df)"
   ]
  },
  {
   "cell_type": "markdown",
   "id": "faf2c6c9",
   "metadata": {},
   "source": [
    "### Observation:\n",
    "- Apple processor has more price compare to other processors"
   ]
  },
  {
   "cell_type": "code",
   "execution_count": 74,
   "id": "f59ec398",
   "metadata": {},
   "outputs": [
    {
     "data": {
      "text/html": [
       "<div>\n",
       "<style scoped>\n",
       "    .dataframe tbody tr th:only-of-type {\n",
       "        vertical-align: middle;\n",
       "    }\n",
       "\n",
       "    .dataframe tbody tr th {\n",
       "        vertical-align: top;\n",
       "    }\n",
       "\n",
       "    .dataframe thead th {\n",
       "        text-align: right;\n",
       "    }\n",
       "</style>\n",
       "<table border=\"1\" class=\"dataframe\">\n",
       "  <thead>\n",
       "    <tr style=\"text-align: right;\">\n",
       "      <th></th>\n",
       "      <th>RAM</th>\n",
       "      <th>16 GB</th>\n",
       "      <th>32 GB</th>\n",
       "      <th>4 GB</th>\n",
       "      <th>8 GB</th>\n",
       "    </tr>\n",
       "  </thead>\n",
       "  <tbody>\n",
       "    <tr>\n",
       "      <th rowspan=\"3\" valign=\"top\">MRP</th>\n",
       "      <th>min</th>\n",
       "      <td>37990.000000</td>\n",
       "      <td>199990.00</td>\n",
       "      <td>14990.0000</td>\n",
       "      <td>22990.000000</td>\n",
       "    </tr>\n",
       "    <tr>\n",
       "      <th>max</th>\n",
       "      <td>241990.000000</td>\n",
       "      <td>434830.00</td>\n",
       "      <td>61249.0000</td>\n",
       "      <td>149990.000000</td>\n",
       "    </tr>\n",
       "    <tr>\n",
       "      <th>mean</th>\n",
       "      <td>109669.468966</td>\n",
       "      <td>291411.25</td>\n",
       "      <td>28996.1875</td>\n",
       "      <td>54249.447964</td>\n",
       "    </tr>\n",
       "  </tbody>\n",
       "</table>\n",
       "</div>"
      ],
      "text/plain": [
       "RAM               16 GB      32 GB        4 GB           8 GB\n",
       "MRP min    37990.000000  199990.00  14990.0000   22990.000000\n",
       "    max   241990.000000  434830.00  61249.0000  149990.000000\n",
       "    mean  109669.468966  291411.25  28996.1875   54249.447964"
      ]
     },
     "execution_count": 74,
     "metadata": {},
     "output_type": "execute_result"
    }
   ],
   "source": [
    "df.groupby('RAM').agg({'MRP' : ['min', 'max', 'mean']}).T"
   ]
  },
  {
   "cell_type": "code",
   "execution_count": 75,
   "id": "6013d1ec",
   "metadata": {},
   "outputs": [
    {
     "data": {
      "text/plain": [
       "<AxesSubplot:xlabel='RAM', ylabel='MRP'>"
      ]
     },
     "execution_count": 75,
     "metadata": {},
     "output_type": "execute_result"
    },
    {
     "data": {
      "image/png": "[encoded data removed]",
      "text/plain": [
       "<Figure size 1080x504 with 1 Axes>"
      ]
     },
     "metadata": {
      "needs_background": "light"
     },
     "output_type": "display_data"
    }
   ],
   "source": [
    "plt.figure(figsize=(15, 7))\n",
    "sns.barplot(x='RAM', y ='MRP', data=df)"
   ]
  },
  {
   "cell_type": "markdown",
   "id": "6cf168da",
   "metadata": {},
   "source": [
    "### Observation:- \n",
    "- 32 GB RAM has more price compare to other RAM "
   ]
  },
  {
   "cell_type": "code",
   "execution_count": 76,
   "id": "ead1a68a",
   "metadata": {},
   "outputs": [
    {
     "data": {
      "text/plain": [
       "<AxesSubplot:xlabel='RAM_Type', ylabel='MRP'>"
      ]
     },
     "execution_count": 76,
     "metadata": {},
     "output_type": "execute_result"
    },
    {
     "data": {
      "image/png": "[encoded data removed]",
      "text/plain": [
       "<Figure size 1080x504 with 1 Axes>"
      ]
     },
     "metadata": {
      "needs_background": "light"
     },
     "output_type": "display_data"
    }
   ],
   "source": [
    "plt.figure(figsize=(15, 7))\n",
    "sns.barplot(x='RAM_Type', y ='MRP', data=df)"
   ]
  },
  {
   "cell_type": "markdown",
   "id": "1fde2e68",
   "metadata": {},
   "source": [
    "### Observation:\n",
    "- LPDDR3 RAM_TYPE have more price compare to the other ram_typyes"
   ]
  },
  {
   "cell_type": "code",
   "execution_count": 77,
   "id": "a07e4497",
   "metadata": {
    "scrolled": true
   },
   "outputs": [
    {
     "data": {
      "text/plain": [
       "<AxesSubplot:xlabel='Disc Type', ylabel='MRP'>"
      ]
     },
     "execution_count": 77,
     "metadata": {},
     "output_type": "execute_result"
    },
    {
     "data": {
      "image/png": "[encoded data removed]",
      "text/plain": [
       "<Figure size 1080x504 with 1 Axes>"
      ]
     },
     "metadata": {
      "needs_background": "light"
     },
     "output_type": "display_data"
    }
   ],
   "source": [
    "plt.figure(figsize=(15, 7))\n",
    "sns.barplot(x='Disc Type', y ='MRP', data=df)"
   ]
  },
  {
   "cell_type": "markdown",
   "id": "6be222ca",
   "metadata": {},
   "source": [
    "### Observation:\n",
    "- SSD price is more compare to HDD price"
   ]
  },
  {
   "cell_type": "code",
   "execution_count": 78,
   "id": "5f81a472",
   "metadata": {},
   "outputs": [
    {
     "data": {
      "image/png": "[encoded data removed]",
      "text/plain": [
       "<Figure size 1080x576 with 1 Axes>"
      ]
     },
     "metadata": {
      "needs_background": "light"
     },
     "output_type": "display_data"
    }
   ],
   "source": [
    "crosstab=pd.crosstab(df['Brand'],df['RAM_Type'])\n",
    "crosstab.plot(kind='bar',stacked=True,figsize=(15,8))\n",
    "plt.legend(bbox_to_anchor=(1,1))\n",
    "plt.show()"
   ]
  },
  {
   "cell_type": "markdown",
   "id": "e8135ade",
   "metadata": {},
   "source": [
    "### Observation:\n",
    "- Brand Asus have different types of RAM_Types compare to other models"
   ]
  },
  {
   "cell_type": "code",
   "execution_count": 79,
   "id": "85a92a31",
   "metadata": {},
   "outputs": [
    {
     "data": {
      "text/plain": [
       "array(['8 GB', '16 GB', '4 GB', '32 GB'], dtype=object)"
      ]
     },
     "execution_count": 79,
     "metadata": {},
     "output_type": "execute_result"
    }
   ],
   "source": [
    "df['RAM'].unique()"
   ]
  },
  {
   "cell_type": "markdown",
   "id": "1bffa99c",
   "metadata": {},
   "source": [
    "### Build Machine Learning Model"
   ]
  },
  {
   "cell_type": "code",
   "execution_count": 80,
   "id": "52db8f11",
   "metadata": {},
   "outputs": [
    {
     "data": {
      "text/html": [
       "<div>\n",
       "<style scoped>\n",
       "    .dataframe tbody tr th:only-of-type {\n",
       "        vertical-align: middle;\n",
       "    }\n",
       "\n",
       "    .dataframe tbody tr th {\n",
       "        vertical-align: top;\n",
       "    }\n",
       "\n",
       "    .dataframe thead th {\n",
       "        text-align: right;\n",
       "    }\n",
       "</style>\n",
       "<table border=\"1\" class=\"dataframe\">\n",
       "  <thead>\n",
       "    <tr style=\"text-align: right;\">\n",
       "      <th></th>\n",
       "      <th>Rating</th>\n",
       "      <th>MRP</th>\n",
       "      <th>Brand</th>\n",
       "      <th>Operating_System</th>\n",
       "      <th>RAM</th>\n",
       "      <th>Display_inchs</th>\n",
       "      <th>RAM_Type</th>\n",
       "      <th>Processor</th>\n",
       "      <th>Disc Size</th>\n",
       "      <th>Disc Type</th>\n",
       "    </tr>\n",
       "  </thead>\n",
       "  <tbody>\n",
       "    <tr>\n",
       "      <th>0</th>\n",
       "      <td>4.2</td>\n",
       "      <td>36990</td>\n",
       "      <td>Lenovo</td>\n",
       "      <td>Windows 11</td>\n",
       "      <td>8 GB</td>\n",
       "      <td>14</td>\n",
       "      <td>DDR4</td>\n",
       "      <td>Intel</td>\n",
       "      <td>256GB</td>\n",
       "      <td>SSD</td>\n",
       "    </tr>\n",
       "    <tr>\n",
       "      <th>1</th>\n",
       "      <td>4.2</td>\n",
       "      <td>39990</td>\n",
       "      <td>Lenovo</td>\n",
       "      <td>Windows 11</td>\n",
       "      <td>8 GB</td>\n",
       "      <td>15.6</td>\n",
       "      <td>DDR4</td>\n",
       "      <td>Intel</td>\n",
       "      <td>512GB</td>\n",
       "      <td>SSD</td>\n",
       "    </tr>\n",
       "    <tr>\n",
       "      <th>2</th>\n",
       "      <td>4.3</td>\n",
       "      <td>32990</td>\n",
       "      <td>ASUS</td>\n",
       "      <td>Windows 11</td>\n",
       "      <td>8 GB</td>\n",
       "      <td>15.6</td>\n",
       "      <td>DDR4</td>\n",
       "      <td>Intel</td>\n",
       "      <td>512GB</td>\n",
       "      <td>SSD</td>\n",
       "    </tr>\n",
       "    <tr>\n",
       "      <th>3</th>\n",
       "      <td>4.4</td>\n",
       "      <td>49990</td>\n",
       "      <td>HP</td>\n",
       "      <td>Windows 10</td>\n",
       "      <td>8 GB</td>\n",
       "      <td>15.6</td>\n",
       "      <td>DDR4</td>\n",
       "      <td>AMD</td>\n",
       "      <td>512GB</td>\n",
       "      <td>SSD</td>\n",
       "    </tr>\n",
       "    <tr>\n",
       "      <th>4</th>\n",
       "      <td>4.4</td>\n",
       "      <td>49990</td>\n",
       "      <td>ASUS</td>\n",
       "      <td>Windows 11</td>\n",
       "      <td>8 GB</td>\n",
       "      <td>15.6</td>\n",
       "      <td>DDR4</td>\n",
       "      <td>Intel</td>\n",
       "      <td>512GB</td>\n",
       "      <td>SSD</td>\n",
       "    </tr>\n",
       "  </tbody>\n",
       "</table>\n",
       "</div>"
      ],
      "text/plain": [
       "   Rating    MRP   Brand Operating_System   RAM Display_inchs RAM_Type  \\\n",
       "0     4.2  36990  Lenovo       Windows 11  8 GB            14     DDR4   \n",
       "1     4.2  39990  Lenovo       Windows 11  8 GB          15.6     DDR4   \n",
       "2     4.3  32990    ASUS       Windows 11  8 GB          15.6     DDR4   \n",
       "3     4.4  49990      HP       Windows 10  8 GB          15.6     DDR4   \n",
       "4     4.4  49990    ASUS       Windows 11  8 GB          15.6     DDR4   \n",
       "\n",
       "  Processor Disc Size Disc Type  \n",
       "0     Intel     256GB       SSD  \n",
       "1     Intel     512GB       SSD  \n",
       "2     Intel     512GB       SSD  \n",
       "3       AMD     512GB       SSD  \n",
       "4     Intel     512GB       SSD  "
      ]
     },
     "execution_count": 80,
     "metadata": {},
     "output_type": "execute_result"
    }
   ],
   "source": [
    "df.head()"
   ]
  },
  {
   "cell_type": "code",
   "execution_count": 81,
   "id": "1b94d656",
   "metadata": {},
   "outputs": [
    {
     "data": {
      "text/html": [
       "<div>\n",
       "<style scoped>\n",
       "    .dataframe tbody tr th:only-of-type {\n",
       "        vertical-align: middle;\n",
       "    }\n",
       "\n",
       "    .dataframe tbody tr th {\n",
       "        vertical-align: top;\n",
       "    }\n",
       "\n",
       "    .dataframe thead th {\n",
       "        text-align: right;\n",
       "    }\n",
       "</style>\n",
       "<table border=\"1\" class=\"dataframe\">\n",
       "  <thead>\n",
       "    <tr style=\"text-align: right;\">\n",
       "      <th></th>\n",
       "      <th>Brand</th>\n",
       "      <th>Processor</th>\n",
       "      <th>Operating_System</th>\n",
       "      <th>RAM</th>\n",
       "      <th>RAM_Type</th>\n",
       "      <th>Disc Size</th>\n",
       "      <th>Disc Type</th>\n",
       "      <th>Display_inchs</th>\n",
       "      <th>MRP</th>\n",
       "    </tr>\n",
       "  </thead>\n",
       "  <tbody>\n",
       "    <tr>\n",
       "      <th>0</th>\n",
       "      <td>Lenovo</td>\n",
       "      <td>Intel</td>\n",
       "      <td>Windows 11</td>\n",
       "      <td>8 GB</td>\n",
       "      <td>DDR4</td>\n",
       "      <td>256GB</td>\n",
       "      <td>SSD</td>\n",
       "      <td>14</td>\n",
       "      <td>36990</td>\n",
       "    </tr>\n",
       "    <tr>\n",
       "      <th>1</th>\n",
       "      <td>Lenovo</td>\n",
       "      <td>Intel</td>\n",
       "      <td>Windows 11</td>\n",
       "      <td>8 GB</td>\n",
       "      <td>DDR4</td>\n",
       "      <td>512GB</td>\n",
       "      <td>SSD</td>\n",
       "      <td>15.6</td>\n",
       "      <td>39990</td>\n",
       "    </tr>\n",
       "    <tr>\n",
       "      <th>2</th>\n",
       "      <td>ASUS</td>\n",
       "      <td>Intel</td>\n",
       "      <td>Windows 11</td>\n",
       "      <td>8 GB</td>\n",
       "      <td>DDR4</td>\n",
       "      <td>512GB</td>\n",
       "      <td>SSD</td>\n",
       "      <td>15.6</td>\n",
       "      <td>32990</td>\n",
       "    </tr>\n",
       "    <tr>\n",
       "      <th>3</th>\n",
       "      <td>HP</td>\n",
       "      <td>AMD</td>\n",
       "      <td>Windows 10</td>\n",
       "      <td>8 GB</td>\n",
       "      <td>DDR4</td>\n",
       "      <td>512GB</td>\n",
       "      <td>SSD</td>\n",
       "      <td>15.6</td>\n",
       "      <td>49990</td>\n",
       "    </tr>\n",
       "    <tr>\n",
       "      <th>4</th>\n",
       "      <td>ASUS</td>\n",
       "      <td>Intel</td>\n",
       "      <td>Windows 11</td>\n",
       "      <td>8 GB</td>\n",
       "      <td>DDR4</td>\n",
       "      <td>512GB</td>\n",
       "      <td>SSD</td>\n",
       "      <td>15.6</td>\n",
       "      <td>49990</td>\n",
       "    </tr>\n",
       "  </tbody>\n",
       "</table>\n",
       "</div>"
      ],
      "text/plain": [
       "    Brand Processor Operating_System   RAM RAM_Type Disc Size Disc Type  \\\n",
       "0  Lenovo     Intel       Windows 11  8 GB     DDR4     256GB       SSD   \n",
       "1  Lenovo     Intel       Windows 11  8 GB     DDR4     512GB       SSD   \n",
       "2    ASUS     Intel       Windows 11  8 GB     DDR4     512GB       SSD   \n",
       "3      HP       AMD       Windows 10  8 GB     DDR4     512GB       SSD   \n",
       "4    ASUS     Intel       Windows 11  8 GB     DDR4     512GB       SSD   \n",
       "\n",
       "  Display_inchs    MRP  \n",
       "0            14  36990  \n",
       "1          15.6  39990  \n",
       "2          15.6  32990  \n",
       "3          15.6  49990  \n",
       "4          15.6  49990  "
      ]
     },
     "execution_count": 81,
     "metadata": {},
     "output_type": "execute_result"
    }
   ],
   "source": [
    "df=df[['Brand','Processor','Operating_System','RAM','RAM_Type','Disc Size','Disc Type','Display_inchs','MRP']]\n",
    "df.head()"
   ]
  },
  {
   "cell_type": "markdown",
   "id": "fc604c76",
   "metadata": {},
   "source": [
    "### Separate the input and output"
   ]
  },
  {
   "cell_type": "code",
   "execution_count": 82,
   "id": "34c30a44",
   "metadata": {},
   "outputs": [],
   "source": [
    "X=df[['Operating_System','RAM','RAM_Type','Disc Size']]\n",
    "y=df[[\"MRP\"]]"
   ]
  },
  {
   "cell_type": "markdown",
   "id": "dbeb3c34",
   "metadata": {},
   "source": [
    "#### Label Encoding \n",
    "#### RAM ,DISK SIZE ,RAM_TYPE,OPERATING_SYSTEM "
   ]
  },
  {
   "cell_type": "code",
   "execution_count": 83,
   "id": "742a421e",
   "metadata": {},
   "outputs": [
    {
     "data": {
      "text/plain": [
       "8 GB     221\n",
       "16 GB    145\n",
       "4 GB      32\n",
       "32 GB     16\n",
       "Name: RAM, dtype: int64"
      ]
     },
     "execution_count": 83,
     "metadata": {},
     "output_type": "execute_result"
    }
   ],
   "source": [
    "X[\"RAM\"].value_counts()"
   ]
  },
  {
   "cell_type": "code",
   "execution_count": 84,
   "id": "3f03be3e",
   "metadata": {},
   "outputs": [],
   "source": [
    "ram = {\"32 GB\":4,'16 GB':3,'8 GB':2,'4 GB':1}\n",
    "X['RAM'] = X['RAM'].apply(lambda x: ram[x])"
   ]
  },
  {
   "cell_type": "code",
   "execution_count": 85,
   "id": "f7740c5d",
   "metadata": {},
   "outputs": [
    {
     "data": {
      "text/plain": [
       "DDR4       315\n",
       "DDR5        41\n",
       "LPDDR4X     30\n",
       "Unified     10\n",
       "LPDDR5       9\n",
       "LPDDR4       8\n",
       "LPDDR3       1\n",
       "Name: RAM_Type, dtype: int64"
      ]
     },
     "execution_count": 85,
     "metadata": {},
     "output_type": "execute_result"
    }
   ],
   "source": [
    "X[\"RAM_Type\"].value_counts()"
   ]
  },
  {
   "cell_type": "code",
   "execution_count": 86,
   "id": "24e629d5",
   "metadata": {},
   "outputs": [],
   "source": [
    "ram_type = {'Unified':7,'LPDDR5':6,'LPDDR4X':5,'LPDDR4':4,'LPDDR3':3,'DDR5':2,'DDR4':1}\n",
    "X['RAM_Type'] = X['RAM_Type'].apply(lambda x: ram_type[x])"
   ]
  },
  {
   "cell_type": "code",
   "execution_count": 87,
   "id": "0f05340d",
   "metadata": {},
   "outputs": [
    {
     "data": {
      "text/plain": [
       "512GB    218\n",
       "1TB      115\n",
       "256GB     62\n",
       "128GB      6\n",
       "64GB       6\n",
       "2TB        6\n",
       "32GB       1\n",
       "Name: Disc Size, dtype: int64"
      ]
     },
     "execution_count": 87,
     "metadata": {},
     "output_type": "execute_result"
    }
   ],
   "source": [
    "X['Disc Size'].value_counts()"
   ]
  },
  {
   "cell_type": "code",
   "execution_count": 88,
   "id": "7eba7e6a",
   "metadata": {},
   "outputs": [],
   "source": [
    "storage_ssd={\"2TB\":7,\"1TB\":6,\"512GB\":5,\"256GB\":4,\"128GB\":3,\"64GB\":2,\"32GB\":1}\n",
    "X['Disc Size'] = X['Disc Size'].apply(lambda x: storage_ssd[x])"
   ]
  },
  {
   "cell_type": "code",
   "execution_count": 89,
   "id": "0fdae9f3",
   "metadata": {},
   "outputs": [
    {
     "data": {
      "text/plain": [
       "Windows 11    273\n",
       "Windows 10    115\n",
       "Mac            18\n",
       "Chrome          6\n",
       "DOS             2\n",
       "Name: Operating_System, dtype: int64"
      ]
     },
     "execution_count": 89,
     "metadata": {},
     "output_type": "execute_result"
    }
   ],
   "source": [
    "X[\"Operating_System\"].value_counts()"
   ]
  },
  {
   "cell_type": "code",
   "execution_count": 90,
   "id": "4af89cb7",
   "metadata": {},
   "outputs": [],
   "source": [
    "os={\"DOS\":1,\"Windows 10\":3,\"Windows 11\":4,\"Chrome\":2,\"Mac\":5}\n",
    "X['Operating_System'] = X['Operating_System'].apply(lambda x: os[x])"
   ]
  },
  {
   "cell_type": "markdown",
   "id": "7f1ee7cd",
   "metadata": {},
   "source": [
    "### Split the Data into train and test"
   ]
  },
  {
   "cell_type": "code",
   "execution_count": 91,
   "id": "26de574b",
   "metadata": {},
   "outputs": [],
   "source": [
    "from sklearn.model_selection import train_test_split\n",
    "X_train,X_test,y_train,y_test=train_test_split(X,y,test_size=0.15,random_state=42)"
   ]
  },
  {
   "cell_type": "code",
   "execution_count": 92,
   "id": "4e0449cd",
   "metadata": {},
   "outputs": [],
   "source": [
    "\n",
    "from sklearn.model_selection import GridSearchCV, RandomizedSearchCV\n",
    "from sklearn.metrics import classification_report\n",
    "from sklearn import metrics\n"
   ]
  },
  {
   "cell_type": "markdown",
   "id": "cf8ad651",
   "metadata": {},
   "source": [
    "### Random Forest Regression"
   ]
  },
  {
   "cell_type": "code",
   "execution_count": 96,
   "id": "357f5ca5",
   "metadata": {},
   "outputs": [],
   "source": [
    "from sklearn.ensemble import RandomForestRegressor   \n",
    "tree=RandomForestRegressor(max_depth=19)\n"
   ]
  },
  {
   "cell_type": "code",
   "execution_count": 97,
   "id": "46d6fa0c",
   "metadata": {},
   "outputs": [
    {
     "data": {
      "text/plain": [
       "RandomForestRegressor(max_depth=19)"
      ]
     },
     "execution_count": 97,
     "metadata": {},
     "output_type": "execute_result"
    }
   ],
   "source": [
    "tree.fit(X_train,y_train)"
   ]
  },
  {
   "cell_type": "code",
   "execution_count": 98,
   "id": "553c79c6",
   "metadata": {},
   "outputs": [
    {
     "name": "stdout",
     "output_type": "stream",
     "text": [
      "0.8731255168558479\n"
     ]
    },
    {
     "data": {
      "text/plain": [
       "0.8745755109489239"
      ]
     },
     "execution_count": 98,
     "metadata": {},
     "output_type": "execute_result"
    }
   ],
   "source": [
    "y_train_pred=tree.predict(X_train)\n",
    "r2=metrics.r2_score(y_train,y_train_pred)\n",
    "\n",
    "n = len(y_train)\n",
    "k = X_train.shape[1]\n",
    "\n",
    "r2_adj = 1 - (1-r2)*(n-1)/(n-k-1)\n",
    "\n",
    "print(r2_adj)\n",
    "r2"
   ]
  },
  {
   "cell_type": "code",
   "execution_count": 101,
   "id": "2188888e",
   "metadata": {},
   "outputs": [
    {
     "name": "stdout",
     "output_type": "stream",
     "text": [
      "0.8101034172279934\n"
     ]
    },
    {
     "data": {
      "text/plain": [
       "0.822354809664897"
      ]
     },
     "execution_count": 101,
     "metadata": {},
     "output_type": "execute_result"
    }
   ],
   "source": [
    "y_test_pred=tree.predict(X_test)\n",
    "r2=metrics.r2_score(y_test,y_test_pred)\n",
    "n = len(y_test)\n",
    "k = X_test.shape[1]\n",
    "\n",
    "r2_adj = 1 - (1-r2)*(n-1)/(n-k-1)\n",
    "\n",
    "print(r2_adj)\n",
    "r2"
   ]
  },
  {
   "cell_type": "markdown",
   "id": "8dfcdfd8",
   "metadata": {},
   "source": [
    "### Hyperparameter Tunning by using GridSearchCv"
   ]
  },
  {
   "cell_type": "code",
   "execution_count": 102,
   "id": "6e5c6f95",
   "metadata": {},
   "outputs": [
    {
     "name": "stdout",
     "output_type": "stream",
     "text": [
      "Fitting 5 folds for each of 50 candidates, totalling 250 fits\n"
     ]
    },
    {
     "data": {
      "text/plain": [
       "GridSearchCV(cv=5, estimator=RandomForestRegressor(max_depth=19),\n",
       "             param_grid=[{'max_depth': [1, 2, 3, 4, 5, 6, 7, 8, 9, 10, 11, 12,\n",
       "                                        13, 14, 15, 16, 17, 18, 19, 20, 21, 22,\n",
       "                                        23, 24, 25, 26, 27, 28, 29, 30, ...]}],\n",
       "             return_train_score=True, scoring='r2', verbose=1)"
      ]
     },
     "execution_count": 102,
     "metadata": {},
     "output_type": "execute_result"
    }
   ],
   "source": [
    "tuned_parameters = [{'max_depth':[i for i in range(1, 51)]}]\n",
    "\n",
    "\n",
    "clf = GridSearchCV(\n",
    "    estimator=tree ,\n",
    "    param_grid=tuned_parameters, \n",
    "    scoring='r2',\n",
    "    cv=5,\n",
    "    return_train_score=True,\n",
    "    verbose=1,\n",
    ")\n",
    "clf.fit(X_train, y_train)"
   ]
  },
  {
   "cell_type": "code",
   "execution_count": 103,
   "id": "1433283f",
   "metadata": {},
   "outputs": [
    {
     "name": "stdout",
     "output_type": "stream",
     "text": [
      "Best parameters set found on train set\n",
      "{'max_depth': 38}\n",
      "RandomForestRegressor(max_depth=38)\n",
      "\n",
      "Score on Test Data:  0.8198182201667031\n"
     ]
    }
   ],
   "source": [
    "print(\"Best parameters set found on train set\")\n",
    "print(clf.best_params_)\n",
    "print(clf.best_estimator_)\n",
    "print()\n",
    "\n",
    "print('Score on Test Data: ', clf.score(X_test, y_test))"
   ]
  },
  {
   "cell_type": "code",
   "execution_count": 104,
   "id": "0f7e9c45",
   "metadata": {},
   "outputs": [
    {
     "data": {
      "text/html": [
       "<div>\n",
       "<style scoped>\n",
       "    .dataframe tbody tr th:only-of-type {\n",
       "        vertical-align: middle;\n",
       "    }\n",
       "\n",
       "    .dataframe tbody tr th {\n",
       "        vertical-align: top;\n",
       "    }\n",
       "\n",
       "    .dataframe thead th {\n",
       "        text-align: right;\n",
       "    }\n",
       "</style>\n",
       "<table border=\"1\" class=\"dataframe\">\n",
       "  <thead>\n",
       "    <tr style=\"text-align: right;\">\n",
       "      <th></th>\n",
       "      <th>mean_fit_time</th>\n",
       "      <th>std_fit_time</th>\n",
       "      <th>mean_score_time</th>\n",
       "      <th>std_score_time</th>\n",
       "      <th>param_max_depth</th>\n",
       "      <th>params</th>\n",
       "      <th>split0_test_score</th>\n",
       "      <th>split1_test_score</th>\n",
       "      <th>split2_test_score</th>\n",
       "      <th>split3_test_score</th>\n",
       "      <th>...</th>\n",
       "      <th>mean_test_score</th>\n",
       "      <th>std_test_score</th>\n",
       "      <th>rank_test_score</th>\n",
       "      <th>split0_train_score</th>\n",
       "      <th>split1_train_score</th>\n",
       "      <th>split2_train_score</th>\n",
       "      <th>split3_train_score</th>\n",
       "      <th>split4_train_score</th>\n",
       "      <th>mean_train_score</th>\n",
       "      <th>std_train_score</th>\n",
       "    </tr>\n",
       "  </thead>\n",
       "  <tbody>\n",
       "    <tr>\n",
       "      <th>37</th>\n",
       "      <td>0.089658</td>\n",
       "      <td>0.010732</td>\n",
       "      <td>0.006991</td>\n",
       "      <td>0.003847</td>\n",
       "      <td>38</td>\n",
       "      <td>{'max_depth': 38}</td>\n",
       "      <td>0.746487</td>\n",
       "      <td>0.848751</td>\n",
       "      <td>0.879406</td>\n",
       "      <td>0.684737</td>\n",
       "      <td>...</td>\n",
       "      <td>0.780182</td>\n",
       "      <td>0.072507</td>\n",
       "      <td>1</td>\n",
       "      <td>0.878811</td>\n",
       "      <td>0.873883</td>\n",
       "      <td>0.856344</td>\n",
       "      <td>0.896529</td>\n",
       "      <td>0.891118</td>\n",
       "      <td>0.879337</td>\n",
       "      <td>0.014093</td>\n",
       "    </tr>\n",
       "  </tbody>\n",
       "</table>\n",
       "<p>1 rows × 21 columns</p>\n",
       "</div>"
      ],
      "text/plain": [
       "    mean_fit_time  std_fit_time  mean_score_time  std_score_time  \\\n",
       "37       0.089658      0.010732         0.006991        0.003847   \n",
       "\n",
       "   param_max_depth             params  split0_test_score  split1_test_score  \\\n",
       "37              38  {'max_depth': 38}           0.746487           0.848751   \n",
       "\n",
       "    split2_test_score  split3_test_score  ...  mean_test_score  \\\n",
       "37           0.879406           0.684737  ...         0.780182   \n",
       "\n",
       "    std_test_score  rank_test_score  split0_train_score  split1_train_score  \\\n",
       "37        0.072507                1            0.878811            0.873883   \n",
       "\n",
       "    split2_train_score  split3_train_score  split4_train_score  \\\n",
       "37            0.856344            0.896529            0.891118   \n",
       "\n",
       "    mean_train_score  std_train_score  \n",
       "37          0.879337         0.014093  \n",
       "\n",
       "[1 rows x 21 columns]"
      ]
     },
     "execution_count": 104,
     "metadata": {},
     "output_type": "execute_result"
    }
   ],
   "source": [
    "cv_results1 = pd.DataFrame(clf.cv_results_)\n",
    "\n",
    "cv_results1[cv_results1[\"rank_test_score\"]==1]"
   ]
  },
  {
   "cell_type": "code",
   "execution_count": 105,
   "id": "c87f6a1c",
   "metadata": {},
   "outputs": [
    {
     "data": {
      "text/plain": [
       "<matplotlib.legend.Legend at 0x1e62999b130>"
      ]
     },
     "execution_count": 105,
     "metadata": {},
     "output_type": "execute_result"
    },
    {
     "data": {
      "image/png": "[encoded data removed]",
      "text/plain": [
       "<Figure size 432x288 with 1 Axes>"
      ]
     },
     "metadata": {
      "needs_background": "light"
     },
     "output_type": "display_data"
    }
   ],
   "source": [
    "plt.plot(cv_results1['param_max_depth'], cv_results1['mean_train_score'])\n",
    "plt.plot(cv_results1['param_max_depth'], cv_results1['mean_test_score'])\n",
    "plt.xlabel('max_depth')\n",
    "plt.ylabel('r2')\n",
    "plt.legend(['train accuracy', 'test accuracy'], loc='lower right')"
   ]
  },
  {
   "cell_type": "markdown",
   "id": "ce717d22",
   "metadata": {},
   "source": [
    "### Observation:\n",
    "- .Randomforest regressor is the best model at max_depth=19"
   ]
  },
  {
   "cell_type": "markdown",
   "id": "aca89df2",
   "metadata": {},
   "source": [
    "### Pickle "
   ]
  },
  {
   "cell_type": "code",
   "execution_count": 106,
   "id": "39a250a1",
   "metadata": {},
   "outputs": [],
   "source": [
    "import pickle\n",
    "\n",
    "file = open('dataframe.pkl','wb')\n",
    "\n",
    "pickle.dump(tree,file)"
   ]
  },
  {
   "cell_type": "code",
   "execution_count": null,
   "id": "4286b81e",
   "metadata": {},
   "outputs": [],
   "source": []
  }
 ],
 "metadata": {
  "kernelspec": {
   "display_name": "Python 3 (ipykernel)",
   "language": "python",
   "name": "python3"
  },
  "language_info": {
   "codemirror_mode": {
    "name": "ipython",
    "version": 3
   },
   "file_extension": ".py",
   "mimetype": "text/x-python",
   "name": "python",
   "nbconvert_exporter": "python",
   "pygments_lexer": "ipython3",
   "version": "3.9.12"
  }
 },
 "nbformat": 4,
 "nbformat_minor": 5
}
